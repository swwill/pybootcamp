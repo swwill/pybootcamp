{
 "cells": [
  {
   "cell_type": "code",
   "execution_count": 3,
   "id": "560377df-fdeb-4d94-aa98-6da9967bbceb",
   "metadata": {},
   "outputs": [],
   "source": [
    "mystring = 'hello'"
   ]
  },
  {
   "cell_type": "code",
   "execution_count": 4,
   "id": "f64fdb93-882c-4917-8fb8-e69704d895e9",
   "metadata": {},
   "outputs": [],
   "source": [
    "mylist = []\n",
    "\n",
    "for letter in mystring:\n",
    "    mylist.append(letter)"
   ]
  },
  {
   "cell_type": "code",
   "execution_count": 5,
   "id": "0ae92424-c716-45c7-860a-7a01946c0376",
   "metadata": {},
   "outputs": [
    {
     "data": {
      "text/plain": [
       "['h', 'e', 'l', 'l', 'o']"
      ]
     },
     "execution_count": 5,
     "metadata": {},
     "output_type": "execute_result"
    }
   ],
   "source": [
    "mylist"
   ]
  },
  {
   "cell_type": "code",
   "execution_count": 8,
   "id": "bf435177-9edf-45ba-98d7-3f0e293df71a",
   "metadata": {},
   "outputs": [],
   "source": [
    "mylist2 = [letter for letter in mystring]"
   ]
  },
  {
   "cell_type": "code",
   "execution_count": 9,
   "id": "20a42a81-8c27-4171-a661-7ae706f08d89",
   "metadata": {},
   "outputs": [
    {
     "data": {
      "text/plain": [
       "['h', 'e', 'l', 'l', 'o']"
      ]
     },
     "execution_count": 9,
     "metadata": {},
     "output_type": "execute_result"
    }
   ],
   "source": [
    "mylist2"
   ]
  },
  {
   "cell_type": "code",
   "execution_count": 10,
   "id": "6eb9010f-ef16-4270-b433-70ca07a39e57",
   "metadata": {},
   "outputs": [],
   "source": [
    "mylist3 = [q for q in 'word']"
   ]
  },
  {
   "cell_type": "code",
   "execution_count": 11,
   "id": "28d24695-244a-4467-b946-127bde3313a3",
   "metadata": {},
   "outputs": [
    {
     "data": {
      "text/plain": [
       "['w', 'o', 'r', 'd']"
      ]
     },
     "execution_count": 11,
     "metadata": {},
     "output_type": "execute_result"
    }
   ],
   "source": [
    "mylist3"
   ]
  },
  {
   "cell_type": "code",
   "execution_count": 14,
   "id": "8a27e6a1-829b-48c5-a67b-988fe1e3ca32",
   "metadata": {},
   "outputs": [],
   "source": [
    "mylist4 = [num**2 for num in range(0, 11)]"
   ]
  },
  {
   "cell_type": "code",
   "execution_count": 15,
   "id": "2adab0a1-c804-43f6-b33c-8d59afaa60e9",
   "metadata": {},
   "outputs": [
    {
     "data": {
      "text/plain": [
       "[0, 1, 4, 9, 16, 25, 36, 49, 64, 81, 100]"
      ]
     },
     "execution_count": 15,
     "metadata": {},
     "output_type": "execute_result"
    }
   ],
   "source": [
    "mylist4"
   ]
  },
  {
   "cell_type": "code",
   "execution_count": 16,
   "id": "a03e965e-75b8-45d5-a8e3-ef6080009afd",
   "metadata": {},
   "outputs": [],
   "source": [
    "mylist5 = [x for x in range(0, 11) if x%2 == 0] #even numbers"
   ]
  },
  {
   "cell_type": "code",
   "execution_count": 17,
   "id": "f2fee10d-eec4-4082-ad59-c00dfa39233a",
   "metadata": {},
   "outputs": [
    {
     "data": {
      "text/plain": [
       "[0, 2, 4, 6, 8, 10]"
      ]
     },
     "execution_count": 17,
     "metadata": {},
     "output_type": "execute_result"
    }
   ],
   "source": [
    "mylist5"
   ]
  },
  {
   "cell_type": "code",
   "execution_count": 24,
   "id": "dd817482-4f66-42df-a185-5a445e2267bd",
   "metadata": {},
   "outputs": [],
   "source": [
    "#while it's elegant to do a one liner it's not always easy to read \n",
    "#and come back to\n",
    "celsius = [0, 10, 20, 34.5]\n",
    "\n",
    "fahrenheit = [((9/5) * temp + 32) for temp in celsius] "
   ]
  },
  {
   "cell_type": "code",
   "execution_count": 25,
   "id": "698a4d32-7310-4bd9-b677-54c427263982",
   "metadata": {},
   "outputs": [
    {
     "data": {
      "text/plain": [
       "[32.0, 50.0, 68.0, 94.1]"
      ]
     },
     "execution_count": 25,
     "metadata": {},
     "output_type": "execute_result"
    }
   ],
   "source": [
    "fahrenheit"
   ]
  },
  {
   "cell_type": "code",
   "execution_count": 26,
   "id": "8e95e93f-bff0-4f7a-b104-3739502b51e4",
   "metadata": {},
   "outputs": [],
   "source": [
    "#same thing as a loop\n",
    "fahrenheit = []\n",
    "\n",
    "for temp in celsius:\n",
    "    fahrenheit.append(((9/5) * temp + 32))"
   ]
  },
  {
   "cell_type": "code",
   "execution_count": 27,
   "id": "d4007d3c-7722-4777-a2db-a69f1f21d384",
   "metadata": {},
   "outputs": [
    {
     "data": {
      "text/plain": [
       "[32.0, 50.0, 68.0, 94.1]"
      ]
     },
     "execution_count": 27,
     "metadata": {},
     "output_type": "execute_result"
    }
   ],
   "source": [
    "fahrenheit"
   ]
  },
  {
   "cell_type": "code",
   "execution_count": 28,
   "id": "943d3329-e224-407c-a7f6-ba89a5461cd7",
   "metadata": {},
   "outputs": [],
   "source": [
    "results = [x if x% 2 == 0 else 'Odd' for x in range(0, 11)] \n",
    "#nice one liner but takes longer to interpret"
   ]
  },
  {
   "cell_type": "code",
   "execution_count": 23,
   "id": "7df30092-28b6-4d5e-b4ce-9cd50e917ede",
   "metadata": {},
   "outputs": [
    {
     "data": {
      "text/plain": [
       "[0, 'Odd', 2, 'Odd', 4, 'Odd', 6, 'Odd', 8, 'Odd', 10]"
      ]
     },
     "execution_count": 23,
     "metadata": {},
     "output_type": "execute_result"
    }
   ],
   "source": [
    "results"
   ]
  },
  {
   "cell_type": "code",
   "execution_count": 32,
   "id": "ad51560b-0cb5-4099-bdb8-dddddeda2f09",
   "metadata": {},
   "outputs": [],
   "source": [
    "mylist = []\n",
    "\n",
    "for x in [2, 4, 6]:\n",
    "    for y in [10, 100, 1000]:\n",
    "        mylist.append(x * y)"
   ]
  },
  {
   "cell_type": "code",
   "execution_count": 33,
   "id": "0abf1268-b7d6-40d9-af9a-f95cc1188648",
   "metadata": {},
   "outputs": [
    {
     "data": {
      "text/plain": [
       "[20, 200, 2000, 40, 400, 4000, 60, 600, 6000]"
      ]
     },
     "execution_count": 33,
     "metadata": {},
     "output_type": "execute_result"
    }
   ],
   "source": [
    "mylist"
   ]
  },
  {
   "cell_type": "code",
   "execution_count": null,
   "id": "5f9910ea-e013-4912-ac2d-61f8cea30263",
   "metadata": {},
   "outputs": [],
   "source": []
  }
 ],
 "metadata": {
  "kernelspec": {
   "display_name": "Python 3 (ipykernel)",
   "language": "python",
   "name": "python3"
  },
  "language_info": {
   "codemirror_mode": {
    "name": "ipython",
    "version": 3
   },
   "file_extension": ".py",
   "mimetype": "text/x-python",
   "name": "python",
   "nbconvert_exporter": "python",
   "pygments_lexer": "ipython3",
   "version": "3.9.12"
  },
  "toc-autonumbering": true
 },
 "nbformat": 4,
 "nbformat_minor": 5
}
