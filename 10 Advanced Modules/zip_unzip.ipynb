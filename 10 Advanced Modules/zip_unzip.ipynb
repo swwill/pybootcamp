{
 "cells": [
  {
   "cell_type": "code",
   "execution_count": 7,
   "id": "efebae24-0e7f-49b3-a9a3-7a8e496fc2ed",
   "metadata": {},
   "outputs": [],
   "source": [
    "f = open(\"fileone.txt\", \"w+\")\n",
    "f.write(\"One File\")\n",
    "f.close()"
   ]
  },
  {
   "cell_type": "code",
   "execution_count": 8,
   "id": "b13dbf1b-0469-47c1-997a-207fc2a96aea",
   "metadata": {},
   "outputs": [],
   "source": [
    "f = open(\"filetwo.txt\", \"w+\")\n",
    "f.write(\"Two file\")\n",
    "f.close()"
   ]
  },
  {
   "cell_type": "markdown",
   "id": "040053e9-7077-40a1-8641-c830ecc9eae2",
   "metadata": {},
   "source": [
    "**Create Zip File**"
   ]
  },
  {
   "cell_type": "code",
   "execution_count": 9,
   "id": "3cb4e0ef-26b2-4aae-bc30-3b6d4c825871",
   "metadata": {},
   "outputs": [],
   "source": [
    "import zipfile"
   ]
  },
  {
   "cell_type": "code",
   "execution_count": 13,
   "id": "907263b7-fa3d-4853-8f5d-db43e44850c0",
   "metadata": {},
   "outputs": [],
   "source": [
    "comp_file = zipfile.ZipFile(\"comp_file.zip\", \"w\")"
   ]
  },
  {
   "cell_type": "code",
   "execution_count": 14,
   "id": "7dfe24e9-a0cf-4d63-933c-f37025e225cf",
   "metadata": {},
   "outputs": [],
   "source": [
    "comp_file.write(\"fileone.txt\", compress_type = zipfile.ZIP_DEFLATED)"
   ]
  },
  {
   "cell_type": "code",
   "execution_count": 15,
   "id": "3ac31f15-6321-4b38-aaea-4db6a7d0b465",
   "metadata": {},
   "outputs": [],
   "source": [
    "comp_file.write(\"filetwo.txt\", compress_type = zipfile.ZIP_DEFLATED)"
   ]
  },
  {
   "cell_type": "code",
   "execution_count": 16,
   "id": "93e19120-23eb-4432-8ae6-5499af2c0745",
   "metadata": {},
   "outputs": [],
   "source": [
    "comp_file.close()"
   ]
  },
  {
   "cell_type": "markdown",
   "id": "a515338f-bcc6-4704-98a0-c43f5638399c",
   "metadata": {},
   "source": [
    "**Extract Zip File**"
   ]
  },
  {
   "cell_type": "code",
   "execution_count": 19,
   "id": "e14230b8-0bcc-4684-b540-221492fcb9d1",
   "metadata": {},
   "outputs": [],
   "source": [
    "zip_obj = zipfile.ZipFile(\"comp_file.zip\", \"r\") #read mode"
   ]
  },
  {
   "cell_type": "code",
   "execution_count": 20,
   "id": "12391829-bae8-477e-92e0-7dfd36a296b2",
   "metadata": {},
   "outputs": [],
   "source": [
    "zip_obj.extractall(\"extracted_content\")"
   ]
  },
  {
   "cell_type": "code",
   "execution_count": 22,
   "id": "6a3ea29a-4666-47af-92a5-89ce7c947ed9",
   "metadata": {},
   "outputs": [
    {
     "data": {
      "text/plain": [
       "'C:\\\\Users\\\\b\\\\Documents\\\\Python Stuff\\\\Python Bootcamp Zero to Hero\\\\10 Advanced Modules'"
      ]
     },
     "execution_count": 22,
     "metadata": {},
     "output_type": "execute_result"
    }
   ],
   "source": [
    "pwd #shows where you are in directory"
   ]
  },
  {
   "cell_type": "code",
   "execution_count": 30,
   "id": "0c80d915-6062-4108-80bc-df31fef4b924",
   "metadata": {},
   "outputs": [],
   "source": [
    "import shutil #easier"
   ]
  },
  {
   "cell_type": "code",
   "execution_count": 25,
   "id": "043c8400-3cef-4f90-abc4-d676f90d8e8a",
   "metadata": {},
   "outputs": [],
   "source": [
    "dir_to_zip = \"C:\\\\Users\\\\b\\\\Documents\\\\Python Stuff\\\\Python Bootcamp Zero to Hero\\\\10 Advanced Modules\\\\extracted_content\""
   ]
  },
  {
   "cell_type": "code",
   "execution_count": 27,
   "id": "e4758f68-9d52-48d3-81ad-6e83ec188b94",
   "metadata": {},
   "outputs": [],
   "source": [
    "output_filename = \"example\""
   ]
  },
  {
   "cell_type": "code",
   "execution_count": 28,
   "id": "b4ef5e1c-7398-4955-96be-f3adbb40e95f",
   "metadata": {},
   "outputs": [
    {
     "data": {
      "text/plain": [
       "'C:\\\\Users\\\\b\\\\Documents\\\\Python Stuff\\\\Python Bootcamp Zero to Hero\\\\10 Advanced Modules\\\\example.zip'"
      ]
     },
     "execution_count": 28,
     "metadata": {},
     "output_type": "execute_result"
    }
   ],
   "source": [
    "shutil.make_archive(output_filename, \"zip\", dir_to_zip)"
   ]
  },
  {
   "cell_type": "code",
   "execution_count": 29,
   "id": "5d93c58c-85b8-41ea-b0f0-4f5e12eaa05a",
   "metadata": {},
   "outputs": [],
   "source": [
    "shutil.unpack_archive(\"example.zip\", \"final_unzip\", \"zip\")"
   ]
  },
  {
   "cell_type": "code",
   "execution_count": null,
   "id": "7759364c-97c4-45d2-b437-6c0e90b402d4",
   "metadata": {},
   "outputs": [],
   "source": []
  }
 ],
 "metadata": {
  "kernelspec": {
   "display_name": "Python [conda env:base] *",
   "language": "python",
   "name": "conda-base-py"
  },
  "language_info": {
   "codemirror_mode": {
    "name": "ipython",
    "version": 3
   },
   "file_extension": ".py",
   "mimetype": "text/x-python",
   "name": "python",
   "nbconvert_exporter": "python",
   "pygments_lexer": "ipython3",
   "version": "3.12.7"
  }
 },
 "nbformat": 4,
 "nbformat_minor": 5
}
