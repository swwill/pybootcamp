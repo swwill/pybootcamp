{
 "cells": [
  {
   "cell_type": "markdown",
   "id": "892ad087-f4a5-41d7-9b99-6888b92703eb",
   "metadata": {},
   "source": [
    "**Python Regular Expressions**\n",
    "- \\d is digit"
   ]
  },
  {
   "cell_type": "code",
   "execution_count": 1,
   "id": "3193e014-21d5-4a5b-bcce-2026584a4448",
   "metadata": {},
   "outputs": [],
   "source": [
    "text = \"The agent's phone number is 408-555-1234. Call soon!\""
   ]
  },
  {
   "cell_type": "code",
   "execution_count": 2,
   "id": "bba8030a-59b3-4368-beca-ed0672c944a0",
   "metadata": {},
   "outputs": [
    {
     "data": {
      "text/plain": [
       "True"
      ]
     },
     "execution_count": 2,
     "metadata": {},
     "output_type": "execute_result"
    }
   ],
   "source": [
    "'phone' in text"
   ]
  },
  {
   "cell_type": "code",
   "execution_count": 3,
   "id": "b6681900-a6a6-4c60-a2ab-70449f90ef1d",
   "metadata": {},
   "outputs": [],
   "source": [
    "import re"
   ]
  },
  {
   "cell_type": "code",
   "execution_count": 4,
   "id": "be969898-bd0b-40f3-b3ce-9712dc387e7b",
   "metadata": {},
   "outputs": [],
   "source": [
    "pattern = 'phone'"
   ]
  },
  {
   "cell_type": "code",
   "execution_count": 5,
   "id": "f74dc734-e93e-4fec-99d3-a6c688d78571",
   "metadata": {},
   "outputs": [
    {
     "data": {
      "text/plain": [
       "<re.Match object; span=(12, 17), match='phone'>"
      ]
     },
     "execution_count": 5,
     "metadata": {},
     "output_type": "execute_result"
    }
   ],
   "source": [
    "re.search(pattern, text)"
   ]
  },
  {
   "cell_type": "code",
   "execution_count": 8,
   "id": "893274a5-5655-48af-81fe-d314655443f4",
   "metadata": {},
   "outputs": [],
   "source": [
    "pattern2 = 'not'"
   ]
  },
  {
   "cell_type": "code",
   "execution_count": 10,
   "id": "95ec7f41-708d-40c6-948f-badc3bbf0fb6",
   "metadata": {},
   "outputs": [],
   "source": [
    "re.search(pattern2, text) #no output, no match"
   ]
  },
  {
   "cell_type": "code",
   "execution_count": 11,
   "id": "84a83b08-5d06-446f-b545-5206e332f9a6",
   "metadata": {},
   "outputs": [],
   "source": [
    "text = \"my phone once, my phone twice\""
   ]
  },
  {
   "cell_type": "code",
   "execution_count": 12,
   "id": "1d4c2502-2730-4a33-ae23-84e0441d2f9f",
   "metadata": {},
   "outputs": [],
   "source": [
    "match = re.search('phone', text)"
   ]
  },
  {
   "cell_type": "code",
   "execution_count": 14,
   "id": "6a187c8a-7ec2-46c8-9c9e-a7aa81772e3e",
   "metadata": {},
   "outputs": [
    {
     "data": {
      "text/plain": [
       "<re.Match object; span=(3, 8), match='phone'>"
      ]
     },
     "execution_count": 14,
     "metadata": {},
     "output_type": "execute_result"
    }
   ],
   "source": [
    "match #for multiple matches, it only finds the first one. have to use find all"
   ]
  },
  {
   "cell_type": "code",
   "execution_count": 15,
   "id": "e9408620-468c-447c-b504-7c042be9d086",
   "metadata": {},
   "outputs": [],
   "source": [
    "matches = re.findall('phone', text)"
   ]
  },
  {
   "cell_type": "code",
   "execution_count": 16,
   "id": "a50e123a-bc68-4d3c-a78a-abd0fdf492cb",
   "metadata": {},
   "outputs": [
    {
     "data": {
      "text/plain": [
       "['phone', 'phone']"
      ]
     },
     "execution_count": 16,
     "metadata": {},
     "output_type": "execute_result"
    }
   ],
   "source": [
    "matches"
   ]
  },
  {
   "cell_type": "code",
   "execution_count": 17,
   "id": "b37895bd-03b2-42b3-94ae-af6050b2004d",
   "metadata": {},
   "outputs": [
    {
     "data": {
      "text/plain": [
       "2"
      ]
     },
     "execution_count": 17,
     "metadata": {},
     "output_type": "execute_result"
    }
   ],
   "source": [
    "len(matches)"
   ]
  },
  {
   "cell_type": "code",
   "execution_count": 20,
   "id": "33bac2d4-4a9f-4699-abf8-afb5c4287526",
   "metadata": {},
   "outputs": [
    {
     "name": "stdout",
     "output_type": "stream",
     "text": [
      "<re.Match object; span=(3, 8), match='phone'>\n",
      "<re.Match object; span=(18, 23), match='phone'>\n"
     ]
    }
   ],
   "source": [
    "for match in re.finditer('phone', text):\n",
    "    print(match)"
   ]
  },
  {
   "cell_type": "code",
   "execution_count": 18,
   "id": "8d63acdf-bc2d-4f0c-9aaa-362f8a2ba2ff",
   "metadata": {},
   "outputs": [
    {
     "name": "stdout",
     "output_type": "stream",
     "text": [
      "(3, 8)\n",
      "(18, 23)\n"
     ]
    }
   ],
   "source": [
    "for match in re.finditer('phone', text):\n",
    "    print(match.span())"
   ]
  },
  {
   "cell_type": "code",
   "execution_count": 21,
   "id": "46c2a826-0ecc-4090-b867-75a9b4f3a58f",
   "metadata": {},
   "outputs": [
    {
     "name": "stdout",
     "output_type": "stream",
     "text": [
      "phone\n",
      "phone\n"
     ]
    }
   ],
   "source": [
    "for match in re.finditer('phone', text):\n",
    "    print(match.group())"
   ]
  },
  {
   "cell_type": "code",
   "execution_count": null,
   "id": "6501b72e-c56c-4f67-8fe9-d3053f5beb6e",
   "metadata": {},
   "outputs": [],
   "source": []
  }
 ],
 "metadata": {
  "kernelspec": {
   "display_name": "Python [conda env:base] *",
   "language": "python",
   "name": "conda-base-py"
  },
  "language_info": {
   "codemirror_mode": {
    "name": "ipython",
    "version": 3
   },
   "file_extension": ".py",
   "mimetype": "text/x-python",
   "name": "python",
   "nbconvert_exporter": "python",
   "pygments_lexer": "ipython3",
   "version": "3.12.7"
  }
 },
 "nbformat": 4,
 "nbformat_minor": 5
}
