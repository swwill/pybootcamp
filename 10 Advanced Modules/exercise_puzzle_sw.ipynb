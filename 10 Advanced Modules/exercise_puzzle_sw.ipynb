{
 "cells": [
  {
   "cell_type": "code",
   "execution_count": 9,
   "id": "9afa272c-39eb-4bb8-86b1-e1e1def2c20d",
   "metadata": {},
   "outputs": [],
   "source": [
    "import shutil"
   ]
  },
  {
   "cell_type": "code",
   "execution_count": 3,
   "id": "f4770fbf-f39f-4f43-b7a0-a844c3bbb834",
   "metadata": {},
   "outputs": [
    {
     "data": {
      "text/plain": [
       "'C:\\\\Users\\\\b\\\\Documents\\\\Python Stuff\\\\Python Bootcamp Zero to Hero\\\\10 Advanced Modules'"
      ]
     },
     "execution_count": 3,
     "metadata": {},
     "output_type": "execute_result"
    }
   ],
   "source": [
    "pwd"
   ]
  },
  {
   "cell_type": "code",
   "execution_count": 12,
   "id": "8d16cbea-3ce0-4100-91e4-8158b418b080",
   "metadata": {},
   "outputs": [],
   "source": [
    "exercise = shutil.unpack_archive(\"C:\\\\Users\\\\b\\\\Documents\\\\Python Stuff\\\\Python Bootcamp Zero to Hero\\\\10 Advanced Modules\\\\unzip_me_for_instructions.zip\", \"exercise\", \"zip\")"
   ]
  },
  {
   "cell_type": "code",
   "execution_count": 16,
   "id": "fc0a490f-388a-45ce-af20-0195470fc64f",
   "metadata": {},
   "outputs": [],
   "source": [
    "import os\n",
    "import re"
   ]
  },
  {
   "cell_type": "code",
   "execution_count": 31,
   "id": "bead5abe-5ed2-4ca3-a27c-ea54190c9790",
   "metadata": {},
   "outputs": [],
   "source": [
    "file_path = 'C:\\\\Users\\\\b\\\\Documents\\\\Python Stuff\\\\Python Bootcamp Zero to Hero\\\\10 Advanced Modules\\\\exercise\\\\extracted_content'"
   ]
  },
  {
   "cell_type": "code",
   "execution_count": 32,
   "id": "34b8165b-f783-4f62-a858-865bf36bca32",
   "metadata": {},
   "outputs": [
    {
     "data": {
      "text/plain": [
       "<generator object walk at 0x000002A45059DD00>"
      ]
     },
     "execution_count": 32,
     "metadata": {},
     "output_type": "execute_result"
    }
   ],
   "source": [
    "os.walk(file_path)"
   ]
  },
  {
   "cell_type": "code",
   "execution_count": 41,
   "id": "26bed9d9-0e2c-4611-a06e-c89745c975da",
   "metadata": {},
   "outputs": [
    {
     "name": "stdout",
     "output_type": "stream",
     "text": [
      "<re.Match object; span=(1062, 1074), match='719-266-2837'>\n"
     ]
    }
   ],
   "source": [
    "for folder, subfolder, files in os.walk('C:\\\\Users\\\\b\\\\Documents\\\\Python Stuff\\\\Python Bootcamp Zero to Hero\\\\10 Advanced Modules\\\\exercise\\\\extracted_content'):  \n",
    "    for file in files:\n",
    "        f = open(folder + \"\\\\\" + file, \"r\")\n",
    "        text = f.read()\n",
    "        if re.search(r\"\\d{3}-\\d{3}-\\d{4}\", text):\n",
    "            print(re.search(r\"\\d{3}-\\d{3}-\\d{4}\", text))"
   ]
  },
  {
   "cell_type": "code",
   "execution_count": 39,
   "id": "785686b4-970a-49fb-bd53-8c167ec58cc4",
   "metadata": {},
   "outputs": [
    {
     "name": "stdout",
     "output_type": "stream",
     "text": [
      "phone number found in file C:\\Users\\b\\Documents\\Python Stuff\\Python Bootcamp Zero to Hero\\10 Advanced Modules\\exercise\\extracted_content\\Four/EMTGPSXQEJX.txt, phone number is: 719-266-2837\n"
     ]
    },
    {
     "name": "stderr",
     "output_type": "stream",
     "text": [
      "<>:3: SyntaxWarning: invalid escape sequence '\\d'\n",
      "<>:3: SyntaxWarning: invalid escape sequence '\\d'\n",
      "C:\\Users\\b\\AppData\\Local\\Temp\\ipykernel_16308\\4196209974.py:3: SyntaxWarning: invalid escape sequence '\\d'\n",
      "  phone_number_pattern = '\\d{3}-\\d{3}-\\d{4}'\n"
     ]
    }
   ],
   "source": [
    "#print('### searching for phone number')\n",
    " \n",
    "phone_number_pattern = '\\d{3}-\\d{3}-\\d{4}'\n",
    "phone_number_regex = re.compile(phone_number_pattern)\n",
    " \n",
    "for path, sub_folder, files in os.walk('C:\\\\Users\\\\b\\\\Documents\\\\Python Stuff\\\\Python Bootcamp Zero to Hero\\\\10 Advanced Modules\\\\exercise\\\\extracted_content'):\n",
    "    #print(f'## searching {len(files)} files inside folder: {path}')\n",
    " \n",
    "    for file in files:\n",
    "        with open(f'{path}/{file}', 'r') as file_reader:\n",
    "            file_contents = file_reader.read()\n",
    "            result = re.search(phone_number_regex, file_contents)\n",
    "            \n",
    "            if result is not None:\n",
    "                print(f'phone number found in file {path}/{file}, phone number is: {result.group()}')"
   ]
  },
  {
   "cell_type": "code",
   "execution_count": null,
   "id": "bd30cadd-44dc-4e92-86a9-a4bc350fe340",
   "metadata": {},
   "outputs": [],
   "source": []
  }
 ],
 "metadata": {
  "kernelspec": {
   "display_name": "Python [conda env:base] *",
   "language": "python",
   "name": "conda-base-py"
  },
  "language_info": {
   "codemirror_mode": {
    "name": "ipython",
    "version": 3
   },
   "file_extension": ".py",
   "mimetype": "text/x-python",
   "name": "python",
   "nbconvert_exporter": "python",
   "pygments_lexer": "ipython3",
   "version": "3.12.7"
  }
 },
 "nbformat": 4,
 "nbformat_minor": 5
}
