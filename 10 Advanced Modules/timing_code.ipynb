{
 "cells": [
  {
   "cell_type": "code",
   "execution_count": 1,
   "id": "a38c2583-bef1-4d79-b5a1-c7f17392149f",
   "metadata": {},
   "outputs": [],
   "source": [
    "def func_one(n):\n",
    "    return [str(num) for num in range(n)]"
   ]
  },
  {
   "cell_type": "code",
   "execution_count": 2,
   "id": "2781237f-37a1-4b1b-9070-723fb5957e4c",
   "metadata": {},
   "outputs": [
    {
     "data": {
      "text/plain": [
       "['0', '1', '2', '3', '4', '5', '6', '7', '8', '9']"
      ]
     },
     "execution_count": 2,
     "metadata": {},
     "output_type": "execute_result"
    }
   ],
   "source": [
    "func_one(10)"
   ]
  },
  {
   "cell_type": "code",
   "execution_count": 3,
   "id": "b320335a-ddae-4488-a994-815b6e1675f8",
   "metadata": {},
   "outputs": [],
   "source": [
    "def func_two(n):\n",
    "    return list(map(str, range(n)))"
   ]
  },
  {
   "cell_type": "code",
   "execution_count": 4,
   "id": "847ce094-0cb6-48df-abab-dcd2ff451e7f",
   "metadata": {},
   "outputs": [
    {
     "data": {
      "text/plain": [
       "['0', '1', '2', '3', '4', '5', '6', '7', '8', '9']"
      ]
     },
     "execution_count": 4,
     "metadata": {},
     "output_type": "execute_result"
    }
   ],
   "source": [
    "func_two(10)"
   ]
  },
  {
   "cell_type": "markdown",
   "id": "0ba4d122-a114-4894-a8a5-687b0a17c635",
   "metadata": {},
   "source": [
    "**Time Library**"
   ]
  },
  {
   "cell_type": "code",
   "execution_count": 5,
   "id": "2258ec3c-b2cd-49e5-8908-2351e474dd99",
   "metadata": {},
   "outputs": [],
   "source": [
    "import time"
   ]
  },
  {
   "cell_type": "code",
   "execution_count": 6,
   "id": "8ea17555-f128-4841-99f9-e738c7c08964",
   "metadata": {},
   "outputs": [
    {
     "name": "stdout",
     "output_type": "stream",
     "text": [
      "0.0975196361541748\n"
     ]
    }
   ],
   "source": [
    "#current time before\n",
    "start_time = time.time()\n",
    "\n",
    "#run code\n",
    "result = func_one(1000000)\n",
    "\n",
    "#current time after running code\n",
    "end_time = time.time()\n",
    "\n",
    "#elapsed time\n",
    "elapsed_time = end_time - start_time\n",
    "\n",
    "print(elapsed_time)"
   ]
  },
  {
   "cell_type": "code",
   "execution_count": 7,
   "id": "adf23aba-012f-469f-bd59-e8997008cd45",
   "metadata": {},
   "outputs": [
    {
     "name": "stdout",
     "output_type": "stream",
     "text": [
      "0.11980319023132324\n"
     ]
    }
   ],
   "source": [
    "#current time before\n",
    "start_time = time.time()\n",
    "\n",
    "#run code\n",
    "result = func_two(1000000)\n",
    "\n",
    "#current time after running code\n",
    "end_time = time.time()\n",
    "\n",
    "#elapsed time\n",
    "elapsed_time = end_time - start_time\n",
    "\n",
    "print(elapsed_time)"
   ]
  },
  {
   "cell_type": "markdown",
   "id": "dd6f0946-5099-45c7-aab0-3d45fd6e2e6b",
   "metadata": {},
   "source": [
    "with the time library, it's hard to tell which is faster for simpler functions or for when you're not doing a ton of compute"
   ]
  },
  {
   "cell_type": "code",
   "execution_count": 9,
   "id": "a09b5829-6a84-41dd-aa4a-8ec234a120cd",
   "metadata": {},
   "outputs": [
    {
     "name": "stdout",
     "output_type": "stream",
     "text": [
      "0.008998632431030273\n"
     ]
    }
   ],
   "source": [
    "#in this case, if you generate a small enough output, it actually says it takes 0 seconds\n",
    "\n",
    "#current time before\n",
    "start_time = time.time()\n",
    "\n",
    "#run code\n",
    "result = func_two(10)\n",
    "\n",
    "#current time after running code\n",
    "end_time = time.time()\n",
    "\n",
    "#elapsed time\n",
    "elapsed_time = end_time - start_time\n",
    "\n",
    "print(elapsed_time)"
   ]
  },
  {
   "cell_type": "code",
   "execution_count": 10,
   "id": "8957c7cf-07f8-4f00-bb11-55a1e93f5d32",
   "metadata": {},
   "outputs": [
    {
     "name": "stdout",
     "output_type": "stream",
     "text": [
      "0.0\n"
     ]
    }
   ],
   "source": [
    "#current time before\n",
    "start_time = time.time()\n",
    "\n",
    "#run code\n",
    "result = func_two(100)\n",
    "\n",
    "#current time after running code\n",
    "end_time = time.time()\n",
    "\n",
    "#elapsed time\n",
    "elapsed_time = end_time - start_time\n",
    "\n",
    "print(elapsed_time)"
   ]
  },
  {
   "cell_type": "markdown",
   "id": "769b0c8a-c8eb-435e-8e56-b67625b0175e",
   "metadata": {},
   "source": [
    "**Timeit**"
   ]
  },
  {
   "cell_type": "code",
   "execution_count": null,
   "id": "7dca3e31-ff81-4a96-a8a2-7fe80a4caba2",
   "metadata": {},
   "outputs": [],
   "source": []
  }
 ],
 "metadata": {
  "kernelspec": {
   "display_name": "Python [conda env:base] *",
   "language": "python",
   "name": "conda-base-py"
  },
  "language_info": {
   "codemirror_mode": {
    "name": "ipython",
    "version": 3
   },
   "file_extension": ".py",
   "mimetype": "text/x-python",
   "name": "python",
   "nbconvert_exporter": "python",
   "pygments_lexer": "ipython3",
   "version": "3.12.7"
  }
 },
 "nbformat": 4,
 "nbformat_minor": 5
}
