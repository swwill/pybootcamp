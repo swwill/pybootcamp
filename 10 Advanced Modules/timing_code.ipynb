{
 "cells": [
  {
   "cell_type": "code",
   "execution_count": 1,
   "id": "a38c2583-bef1-4d79-b5a1-c7f17392149f",
   "metadata": {},
   "outputs": [],
   "source": [
    "def func_one(n):\n",
    "    return [str(num) for num in range(n)]"
   ]
  },
  {
   "cell_type": "code",
   "execution_count": 2,
   "id": "2781237f-37a1-4b1b-9070-723fb5957e4c",
   "metadata": {},
   "outputs": [
    {
     "data": {
      "text/plain": [
       "['0', '1', '2', '3', '4', '5', '6', '7', '8', '9']"
      ]
     },
     "execution_count": 2,
     "metadata": {},
     "output_type": "execute_result"
    }
   ],
   "source": [
    "func_one(10)"
   ]
  },
  {
   "cell_type": "code",
   "execution_count": 3,
   "id": "b320335a-ddae-4488-a994-815b6e1675f8",
   "metadata": {},
   "outputs": [],
   "source": [
    "def func_two(n):\n",
    "    return list(map(str, range(n)))"
   ]
  },
  {
   "cell_type": "code",
   "execution_count": 4,
   "id": "847ce094-0cb6-48df-abab-dcd2ff451e7f",
   "metadata": {},
   "outputs": [
    {
     "data": {
      "text/plain": [
       "['0', '1', '2', '3', '4', '5', '6', '7', '8', '9']"
      ]
     },
     "execution_count": 4,
     "metadata": {},
     "output_type": "execute_result"
    }
   ],
   "source": [
    "func_two(10)"
   ]
  },
  {
   "cell_type": "markdown",
   "id": "0ba4d122-a114-4894-a8a5-687b0a17c635",
   "metadata": {},
   "source": [
    "**Time Library**"
   ]
  },
  {
   "cell_type": "code",
   "execution_count": 5,
   "id": "2258ec3c-b2cd-49e5-8908-2351e474dd99",
   "metadata": {},
   "outputs": [],
   "source": [
    "import time"
   ]
  },
  {
   "cell_type": "code",
   "execution_count": 6,
   "id": "8ea17555-f128-4841-99f9-e738c7c08964",
   "metadata": {},
   "outputs": [
    {
     "name": "stdout",
     "output_type": "stream",
     "text": [
      "0.08853411674499512\n"
     ]
    }
   ],
   "source": [
    "#current time before\n",
    "start_time = time.time()\n",
    "\n",
    "#run code\n",
    "result = func_one(1000000)\n",
    "\n",
    "#current time after running code\n",
    "end_time = time.time()\n",
    "\n",
    "#elapsed time\n",
    "elapsed_time = end_time - start_time\n",
    "\n",
    "print(elapsed_time)"
   ]
  },
  {
   "cell_type": "code",
   "execution_count": 7,
   "id": "adf23aba-012f-469f-bd59-e8997008cd45",
   "metadata": {},
   "outputs": [
    {
     "name": "stdout",
     "output_type": "stream",
     "text": [
      "0.11419105529785156\n"
     ]
    }
   ],
   "source": [
    "#current time before\n",
    "start_time = time.time()\n",
    "\n",
    "#run code\n",
    "result = func_two(1000000)\n",
    "\n",
    "#current time after running code\n",
    "end_time = time.time()\n",
    "\n",
    "#elapsed time\n",
    "elapsed_time = end_time - start_time\n",
    "\n",
    "print(elapsed_time)"
   ]
  },
  {
   "cell_type": "markdown",
   "id": "dd6f0946-5099-45c7-aab0-3d45fd6e2e6b",
   "metadata": {},
   "source": [
    "with the time library, it's hard to tell which is faster for simpler functions or for when you're not doing a ton of compute"
   ]
  },
  {
   "cell_type": "code",
   "execution_count": 8,
   "id": "a09b5829-6a84-41dd-aa4a-8ec234a120cd",
   "metadata": {},
   "outputs": [
    {
     "name": "stdout",
     "output_type": "stream",
     "text": [
      "0.009003639221191406\n"
     ]
    }
   ],
   "source": [
    "#in this case, if you generate a small enough output, it actually says it takes 0 seconds\n",
    "\n",
    "#current time before\n",
    "start_time = time.time()\n",
    "\n",
    "#run code\n",
    "result = func_two(10)\n",
    "\n",
    "#current time after running code\n",
    "end_time = time.time()\n",
    "\n",
    "#elapsed time\n",
    "elapsed_time = end_time - start_time\n",
    "\n",
    "print(elapsed_time)"
   ]
  },
  {
   "cell_type": "code",
   "execution_count": 9,
   "id": "8957c7cf-07f8-4f00-bb11-55a1e93f5d32",
   "metadata": {},
   "outputs": [
    {
     "name": "stdout",
     "output_type": "stream",
     "text": [
      "0.0\n"
     ]
    }
   ],
   "source": [
    "#current time before\n",
    "start_time = time.time()\n",
    "\n",
    "#run code\n",
    "result = func_two(100)\n",
    "\n",
    "#current time after running code\n",
    "end_time = time.time()\n",
    "\n",
    "#elapsed time\n",
    "elapsed_time = end_time - start_time\n",
    "\n",
    "print(elapsed_time)"
   ]
  },
  {
   "cell_type": "markdown",
   "id": "769b0c8a-c8eb-435e-8e56-b67625b0175e",
   "metadata": {},
   "source": [
    "**Timeit**"
   ]
  },
  {
   "cell_type": "code",
   "execution_count": 10,
   "id": "7dca3e31-ff81-4a96-a8a2-7fe80a4caba2",
   "metadata": {},
   "outputs": [],
   "source": [
    "import timeit"
   ]
  },
  {
   "cell_type": "code",
   "execution_count": 11,
   "id": "7721dad5-72be-437e-a3fb-b275772a0dad",
   "metadata": {},
   "outputs": [],
   "source": [
    "stmt = \"\"\"\n",
    "func_one(100)\n",
    "\"\"\""
   ]
  },
  {
   "cell_type": "code",
   "execution_count": 12,
   "id": "5ae744c2-4d83-4146-8710-1abcd4ea640e",
   "metadata": {},
   "outputs": [],
   "source": [
    "setup = \"\"\"\n",
    "def func_one(n):\n",
    "    return [str(num) for num in range(n)]\n",
    "\"\"\""
   ]
  },
  {
   "cell_type": "code",
   "execution_count": 13,
   "id": "280b3be5-9a73-4d85-8cdb-c4e7974ab39c",
   "metadata": {},
   "outputs": [
    {
     "data": {
      "text/plain": [
       "0.6804865000012796"
      ]
     },
     "execution_count": 13,
     "metadata": {},
     "output_type": "execute_result"
    }
   ],
   "source": [
    "timeit.timeit(stmt, setup, number = 100000) #run 100k times"
   ]
  },
  {
   "cell_type": "code",
   "execution_count": 14,
   "id": "eeea0c13-ee38-4ab9-bea7-415bccffafe9",
   "metadata": {},
   "outputs": [],
   "source": [
    "stmt2 = \"\"\"\n",
    "func_two(100)\n",
    "\"\"\""
   ]
  },
  {
   "cell_type": "code",
   "execution_count": 15,
   "id": "fc4416b1-8158-4d1c-921c-7d5c79f9058f",
   "metadata": {},
   "outputs": [],
   "source": [
    "setup2 = \"\"\"\n",
    "def func_two(n):\n",
    "    return list(map(str, range(n)))\n",
    "\"\"\""
   ]
  },
  {
   "cell_type": "code",
   "execution_count": 16,
   "id": "e518cf36-2ab9-4289-a5b0-dd4f01dfe7fd",
   "metadata": {},
   "outputs": [
    {
     "data": {
      "text/plain": [
       "0.8723258000100031"
      ]
     },
     "execution_count": 16,
     "metadata": {},
     "output_type": "execute_result"
    }
   ],
   "source": [
    "timeit.timeit(stmt2, setup2, number = 100000) #run 100k times"
   ]
  },
  {
   "cell_type": "code",
   "execution_count": 17,
   "id": "0b4bb7d0-8f3b-4cf5-8fb4-d33c219366e4",
   "metadata": {},
   "outputs": [
    {
     "data": {
      "text/plain": [
       "7.368737099983264"
      ]
     },
     "execution_count": 17,
     "metadata": {},
     "output_type": "execute_result"
    }
   ],
   "source": [
    "timeit.timeit(stmt, setup, number = 1000000) #run 1mil times"
   ]
  },
  {
   "cell_type": "code",
   "execution_count": 18,
   "id": "575ffbd3-4064-4d08-a68a-cc7004ce5565",
   "metadata": {},
   "outputs": [
    {
     "data": {
      "text/plain": [
       "8.799121399992146"
      ]
     },
     "execution_count": 18,
     "metadata": {},
     "output_type": "execute_result"
    }
   ],
   "source": [
    "timeit.timeit(stmt2, setup2, number = 1000000) #run 1mil times"
   ]
  },
  {
   "cell_type": "markdown",
   "id": "a9308616-d7a3-4087-a96a-28de9e0dd572",
   "metadata": {},
   "source": [
    "**Jupyter Notebook Timeit**"
   ]
  },
  {
   "cell_type": "code",
   "execution_count": 19,
   "id": "0edad854-100a-4e09-a3ee-3eb22719e7cb",
   "metadata": {},
   "outputs": [
    {
     "name": "stdout",
     "output_type": "stream",
     "text": [
      "7.65 μs ± 350 ns per loop (mean ± std. dev. of 7 runs, 100,000 loops each)\n"
     ]
    }
   ],
   "source": [
    "%%timeit\n",
    "func_one(100)"
   ]
  },
  {
   "cell_type": "code",
   "execution_count": 20,
   "id": "1885a3c7-cabd-4931-84a5-2a9d3c6ee26b",
   "metadata": {},
   "outputs": [
    {
     "name": "stdout",
     "output_type": "stream",
     "text": [
      "9.61 μs ± 447 ns per loop (mean ± std. dev. of 7 runs, 100,000 loops each)\n"
     ]
    }
   ],
   "source": [
    "%%timeit\n",
    "func_two(100)"
   ]
  },
  {
   "cell_type": "code",
   "execution_count": null,
   "id": "86f77163-2bf7-4815-a1db-09a683d2d161",
   "metadata": {},
   "outputs": [],
   "source": []
  }
 ],
 "metadata": {
  "kernelspec": {
   "display_name": "Python [conda env:base] *",
   "language": "python",
   "name": "conda-base-py"
  },
  "language_info": {
   "codemirror_mode": {
    "name": "ipython",
    "version": 3
   },
   "file_extension": ".py",
   "mimetype": "text/x-python",
   "name": "python",
   "nbconvert_exporter": "python",
   "pygments_lexer": "ipython3",
   "version": "3.12.7"
  }
 },
 "nbformat": 4,
 "nbformat_minor": 5
}
