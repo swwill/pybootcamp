{
 "cells": [
  {
   "cell_type": "code",
   "execution_count": 1,
   "id": "7581ff4f-1d52-4e9a-8a4c-81b853ca6a67",
   "metadata": {},
   "outputs": [],
   "source": [
    "from collections import Counter"
   ]
  },
  {
   "cell_type": "code",
   "execution_count": 2,
   "id": "3cb2c29c-f06b-443e-b155-a85f122f3040",
   "metadata": {},
   "outputs": [],
   "source": [
    "mylist = [1, 1, 1, 4, 5, 3, 5, 4, 5, 4]"
   ]
  },
  {
   "cell_type": "code",
   "execution_count": 3,
   "id": "5445ef42-f82b-44e3-83d1-86638721e1b7",
   "metadata": {},
   "outputs": [
    {
     "data": {
      "text/plain": [
       "Counter({1: 3, 4: 3, 5: 3, 3: 1})"
      ]
     },
     "execution_count": 3,
     "metadata": {},
     "output_type": "execute_result"
    }
   ],
   "source": [
    "Counter(mylist)"
   ]
  },
  {
   "cell_type": "code",
   "execution_count": 4,
   "id": "bc5d0565-13f8-44ff-bf2e-f107603fd50d",
   "metadata": {},
   "outputs": [
    {
     "data": {
      "text/plain": [
       "Counter({'a': 5,\n",
       "         'f': 3,\n",
       "         'q': 3,\n",
       "         'k': 3,\n",
       "         'd': 1,\n",
       "         'l': 1,\n",
       "         's': 1,\n",
       "         'm': 1,\n",
       "         'w': 1,\n",
       "         'e': 1,\n",
       "         'j': 1})"
      ]
     },
     "execution_count": 4,
     "metadata": {},
     "output_type": "execute_result"
    }
   ],
   "source": [
    "Counter('aaaadalsfmwejfqqqkkkf')"
   ]
  },
  {
   "cell_type": "code",
   "execution_count": 5,
   "id": "0db898a2-8fad-4725-8c6d-ad9442c85482",
   "metadata": {},
   "outputs": [
    {
     "data": {
      "text/plain": [
       "Counter({' ': 10,\n",
       "         'e': 6,\n",
       "         's': 5,\n",
       "         'o': 4,\n",
       "         'n': 4,\n",
       "         'w': 3,\n",
       "         't': 3,\n",
       "         'i': 3,\n",
       "         'h': 3,\n",
       "         'm': 2,\n",
       "         'a': 2,\n",
       "         'd': 2,\n",
       "         'c': 2,\n",
       "         'H': 1,\n",
       "         'y': 1,\n",
       "         'r': 1,\n",
       "         'u': 1,\n",
       "         'p': 1,\n",
       "         '?': 1})"
      ]
     },
     "execution_count": 5,
     "metadata": {},
     "output_type": "execute_result"
    }
   ],
   "source": [
    "Counter(\"How many times does each word show up in this sentence?\")"
   ]
  },
  {
   "cell_type": "code",
   "execution_count": 6,
   "id": "ebdfa2b7-cfd1-4234-8d33-771814b9ae6b",
   "metadata": {},
   "outputs": [
    {
     "data": {
      "text/plain": [
       "['How',\n",
       " 'many',\n",
       " 'times',\n",
       " 'does',\n",
       " 'each',\n",
       " 'word',\n",
       " 'show',\n",
       " 'up',\n",
       " 'in',\n",
       " 'this',\n",
       " 'sentence?']"
      ]
     },
     "execution_count": 6,
     "metadata": {},
     "output_type": "execute_result"
    }
   ],
   "source": [
    "sentence = \"How many times does each word show up in this sentence?\"\n",
    "sentence.split()"
   ]
  },
  {
   "cell_type": "code",
   "execution_count": 8,
   "id": "6c887b7e-7c4d-41e6-b2d7-bcb0b14f73d9",
   "metadata": {},
   "outputs": [
    {
     "data": {
      "text/plain": [
       "Counter({'How': 1,\n",
       "         'many': 1,\n",
       "         'times': 1,\n",
       "         'does': 1,\n",
       "         'each': 1,\n",
       "         'word': 1,\n",
       "         'show': 1,\n",
       "         'up': 1,\n",
       "         'in': 1,\n",
       "         'this': 1,\n",
       "         'sentence?': 1})"
      ]
     },
     "execution_count": 8,
     "metadata": {},
     "output_type": "execute_result"
    }
   ],
   "source": [
    "Counter(sentence.split())"
   ]
  },
  {
   "cell_type": "code",
   "execution_count": 7,
   "id": "642a6d47-a3ab-4b9c-9de8-b7a3287148cf",
   "metadata": {},
   "outputs": [
    {
     "data": {
      "text/plain": [
       "Counter({'how': 1,\n",
       "         'many': 1,\n",
       "         'times': 1,\n",
       "         'does': 1,\n",
       "         'each': 1,\n",
       "         'word': 1,\n",
       "         'show': 1,\n",
       "         'up': 1,\n",
       "         'in': 1,\n",
       "         'this': 1,\n",
       "         'sentence?': 1})"
      ]
     },
     "execution_count": 7,
     "metadata": {},
     "output_type": "execute_result"
    }
   ],
   "source": [
    "Counter(sentence.lower().split())"
   ]
  },
  {
   "cell_type": "code",
   "execution_count": 9,
   "id": "3dd5c5be-6936-4c43-b258-bd5d499ac283",
   "metadata": {},
   "outputs": [],
   "source": [
    "letters = 'sssssssssssssbbbbbbbbbbbsgjsfhkgbd'"
   ]
  },
  {
   "cell_type": "code",
   "execution_count": 10,
   "id": "ab15380a-88ae-4708-97a2-a6348e391b36",
   "metadata": {},
   "outputs": [],
   "source": [
    "c = Counter(letters)"
   ]
  },
  {
   "cell_type": "code",
   "execution_count": 11,
   "id": "e104080b-61b8-4448-85e9-0dd4776847e3",
   "metadata": {},
   "outputs": [
    {
     "data": {
      "text/plain": [
       "Counter({'s': 15, 'b': 12, 'g': 2, 'j': 1, 'f': 1, 'h': 1, 'k': 1, 'd': 1})"
      ]
     },
     "execution_count": 11,
     "metadata": {},
     "output_type": "execute_result"
    }
   ],
   "source": [
    "c"
   ]
  },
  {
   "cell_type": "code",
   "execution_count": 12,
   "id": "dcf76626-6a07-4ef5-8fb5-138af80200ae",
   "metadata": {},
   "outputs": [
    {
     "data": {
      "text/plain": [
       "[('s', 15),\n",
       " ('b', 12),\n",
       " ('g', 2),\n",
       " ('j', 1),\n",
       " ('f', 1),\n",
       " ('h', 1),\n",
       " ('k', 1),\n",
       " ('d', 1)]"
      ]
     },
     "execution_count": 12,
     "metadata": {},
     "output_type": "execute_result"
    }
   ],
   "source": [
    "c.most_common()"
   ]
  },
  {
   "cell_type": "code",
   "execution_count": 13,
   "id": "9d59369e-d2db-4ae5-a320-7d72904b715f",
   "metadata": {},
   "outputs": [
    {
     "data": {
      "text/plain": [
       "[('s', 15), ('b', 12), ('g', 2)]"
      ]
     },
     "execution_count": 13,
     "metadata": {},
     "output_type": "execute_result"
    }
   ],
   "source": [
    "c.most_common(3)"
   ]
  },
  {
   "cell_type": "code",
   "execution_count": 14,
   "id": "fd1826b8-024f-43a2-99a7-c1d7a1086c86",
   "metadata": {},
   "outputs": [
    {
     "data": {
      "text/plain": [
       "['s', 'b', 'g', 'j', 'f', 'h', 'k', 'd']"
      ]
     },
     "execution_count": 14,
     "metadata": {},
     "output_type": "execute_result"
    }
   ],
   "source": [
    "list(c)"
   ]
  },
  {
   "cell_type": "code",
   "execution_count": 16,
   "id": "cf4d2d16-f5ef-464a-98a8-afd55abf4d97",
   "metadata": {},
   "outputs": [],
   "source": [
    "from collections import defaultdict"
   ]
  },
  {
   "cell_type": "code",
   "execution_count": 18,
   "id": "ace9e34d-b392-426a-9a7e-bc6e2c65dcd5",
   "metadata": {},
   "outputs": [],
   "source": [
    "d = {'a': 10}"
   ]
  },
  {
   "cell_type": "code",
   "execution_count": 19,
   "id": "054fe099-370a-45f6-9e01-9eb02ea946c7",
   "metadata": {},
   "outputs": [
    {
     "data": {
      "text/plain": [
       "{'a': 10}"
      ]
     },
     "execution_count": 19,
     "metadata": {},
     "output_type": "execute_result"
    }
   ],
   "source": [
    "d"
   ]
  },
  {
   "cell_type": "code",
   "execution_count": 20,
   "id": "95492de4-be55-4197-a356-89019effa942",
   "metadata": {},
   "outputs": [
    {
     "data": {
      "text/plain": [
       "10"
      ]
     },
     "execution_count": 20,
     "metadata": {},
     "output_type": "execute_result"
    }
   ],
   "source": [
    "d['a']"
   ]
  },
  {
   "cell_type": "code",
   "execution_count": 21,
   "id": "33dcfb44-a929-44e9-86b4-2644ed830265",
   "metadata": {},
   "outputs": [
    {
     "ename": "KeyError",
     "evalue": "'wrong'",
     "output_type": "error",
     "traceback": [
      "\u001b[1;31m---------------------------------------------------------------------------\u001b[0m",
      "\u001b[1;31mKeyError\u001b[0m                                  Traceback (most recent call last)",
      "Cell \u001b[1;32mIn[21], line 1\u001b[0m\n\u001b[1;32m----> 1\u001b[0m d[\u001b[38;5;124m'\u001b[39m\u001b[38;5;124mwrong\u001b[39m\u001b[38;5;124m'\u001b[39m]\n",
      "\u001b[1;31mKeyError\u001b[0m: 'wrong'"
     ]
    }
   ],
   "source": [
    "d['wrong']"
   ]
  },
  {
   "cell_type": "code",
   "execution_count": 27,
   "id": "49c82b19-7304-450e-a390-05ef728ba478",
   "metadata": {},
   "outputs": [],
   "source": [
    "d = defaultdict(lambda: 0) #automatically defines a default"
   ]
  },
  {
   "cell_type": "code",
   "execution_count": 24,
   "id": "bf1699d3-3da8-4a39-8d24-32e8298d40d0",
   "metadata": {},
   "outputs": [],
   "source": [
    "d['correct'] = 10"
   ]
  },
  {
   "cell_type": "code",
   "execution_count": 25,
   "id": "d5fd9641-9b5d-43cc-9480-8a460be30783",
   "metadata": {},
   "outputs": [
    {
     "data": {
      "text/plain": [
       "10"
      ]
     },
     "execution_count": 25,
     "metadata": {},
     "output_type": "execute_result"
    }
   ],
   "source": [
    "d['correct']"
   ]
  },
  {
   "cell_type": "code",
   "execution_count": 28,
   "id": "297b3aaa-c860-473a-a9fe-4337593a24b5",
   "metadata": {},
   "outputs": [
    {
     "data": {
      "text/plain": [
       "0"
      ]
     },
     "execution_count": 28,
     "metadata": {},
     "output_type": "execute_result"
    }
   ],
   "source": [
    "d['wrong key'] #no error bc defined default"
   ]
  },
  {
   "cell_type": "code",
   "execution_count": 29,
   "id": "6270b30d-f472-4684-a999-31ee30456e76",
   "metadata": {},
   "outputs": [
    {
     "data": {
      "text/plain": [
       "defaultdict(<function __main__.<lambda>()>, {'wrong key': 0})"
      ]
     },
     "execution_count": 29,
     "metadata": {},
     "output_type": "execute_result"
    }
   ],
   "source": [
    "d"
   ]
  },
  {
   "cell_type": "code",
   "execution_count": 33,
   "id": "a1ea0f43-6c10-4d12-9631-91f99dbceccf",
   "metadata": {},
   "outputs": [],
   "source": [
    "from collections import namedtuple"
   ]
  },
  {
   "cell_type": "code",
   "execution_count": 36,
   "id": "bd7965fa-289d-43c2-b461-db8b9fdf608f",
   "metadata": {},
   "outputs": [],
   "source": [
    "Dog = namedtuple(\"Dog\", [\"age\", \"breed\", \"name\"])"
   ]
  },
  {
   "cell_type": "code",
   "execution_count": 37,
   "id": "79e04b20-846c-4995-b5ed-2f22c11f8955",
   "metadata": {},
   "outputs": [],
   "source": [
    "sammy = Dog(age = 3, breed = \"Husky\", name = \"Sammy\")"
   ]
  },
  {
   "cell_type": "code",
   "execution_count": 38,
   "id": "3eab0190-88e8-4e8f-8b96-80fecc9c5622",
   "metadata": {},
   "outputs": [
    {
     "data": {
      "text/plain": [
       "__main__.Dog"
      ]
     },
     "execution_count": 38,
     "metadata": {},
     "output_type": "execute_result"
    }
   ],
   "source": [
    "type(sammy)"
   ]
  },
  {
   "cell_type": "code",
   "execution_count": 39,
   "id": "ced67274-4d76-44f2-b5dc-eda5ce7b7faf",
   "metadata": {},
   "outputs": [
    {
     "data": {
      "text/plain": [
       "Dog(age=3, breed='Husky', name='Sammy')"
      ]
     },
     "execution_count": 39,
     "metadata": {},
     "output_type": "execute_result"
    }
   ],
   "source": [
    "sammy"
   ]
  },
  {
   "cell_type": "code",
   "execution_count": 40,
   "id": "97d5dc13-743c-4a84-8193-c8cc99917986",
   "metadata": {},
   "outputs": [
    {
     "data": {
      "text/plain": [
       "3"
      ]
     },
     "execution_count": 40,
     "metadata": {},
     "output_type": "execute_result"
    }
   ],
   "source": [
    "sammy.age"
   ]
  },
  {
   "cell_type": "code",
   "execution_count": 41,
   "id": "6ec7462a-ff98-4304-a7a4-eddbc2370559",
   "metadata": {},
   "outputs": [
    {
     "data": {
      "text/plain": [
       "'Husky'"
      ]
     },
     "execution_count": 41,
     "metadata": {},
     "output_type": "execute_result"
    }
   ],
   "source": [
    "sammy.breed"
   ]
  },
  {
   "cell_type": "code",
   "execution_count": 42,
   "id": "6a8d69d3-a19c-466c-a10c-7df399278435",
   "metadata": {},
   "outputs": [
    {
     "data": {
      "text/plain": [
       "3"
      ]
     },
     "execution_count": 42,
     "metadata": {},
     "output_type": "execute_result"
    }
   ],
   "source": [
    "sammy[0]"
   ]
  },
  {
   "cell_type": "code",
   "execution_count": null,
   "id": "cc2e1984-7de1-498f-b518-3a0130a8dce7",
   "metadata": {},
   "outputs": [],
   "source": []
  }
 ],
 "metadata": {
  "kernelspec": {
   "display_name": "Python [conda env:base] *",
   "language": "python",
   "name": "conda-base-py"
  },
  "language_info": {
   "codemirror_mode": {
    "name": "ipython",
    "version": 3
   },
   "file_extension": ".py",
   "mimetype": "text/x-python",
   "name": "python",
   "nbconvert_exporter": "python",
   "pygments_lexer": "ipython3",
   "version": "3.12.7"
  }
 },
 "nbformat": 4,
 "nbformat_minor": 5
}
