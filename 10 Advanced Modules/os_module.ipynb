{
 "cells": [
  {
   "cell_type": "code",
   "execution_count": 1,
   "id": "9db52111-46f2-468a-9634-8e03d05972d6",
   "metadata": {},
   "outputs": [
    {
     "data": {
      "text/plain": [
       "'C:\\\\Users\\\\b\\\\Documents\\\\Python Stuff\\\\Python Bootcamp Zero to Hero\\\\10 Advanced Modules'"
      ]
     },
     "execution_count": 1,
     "metadata": {},
     "output_type": "execute_result"
    }
   ],
   "source": [
    "pwd"
   ]
  },
  {
   "cell_type": "code",
   "execution_count": 3,
   "id": "44a9ebad-f09c-44c4-ab60-6e38ff0423c5",
   "metadata": {},
   "outputs": [],
   "source": [
    "f = open(\"practice.txt\", \"w+\")\n",
    "f.write(\"This is a test string\")\n",
    "f.close()"
   ]
  },
  {
   "cell_type": "code",
   "execution_count": 4,
   "id": "74beac79-7c58-4d72-a88d-e81db022d8b1",
   "metadata": {},
   "outputs": [],
   "source": [
    "import os"
   ]
  },
  {
   "cell_type": "code",
   "execution_count": 5,
   "id": "670db074-60c2-4d51-9ebb-c9c01816eab7",
   "metadata": {},
   "outputs": [
    {
     "data": {
      "text/plain": [
       "'C:\\\\Users\\\\b\\\\Documents\\\\Python Stuff\\\\Python Bootcamp Zero to Hero\\\\10 Advanced Modules'"
      ]
     },
     "execution_count": 5,
     "metadata": {},
     "output_type": "execute_result"
    }
   ],
   "source": [
    "os.getcwd()"
   ]
  },
  {
   "cell_type": "code",
   "execution_count": 6,
   "id": "cc625802-933f-4172-83ab-fde6490a9b66",
   "metadata": {},
   "outputs": [
    {
     "data": {
      "text/plain": [
       "['.ipynb_checkpoints',\n",
       " 'collections_module.ipynb',\n",
       " 'practice.txt',\n",
       " 'Untitled.ipynb']"
      ]
     },
     "execution_count": 6,
     "metadata": {},
     "output_type": "execute_result"
    }
   ],
   "source": [
    "os.listdir()"
   ]
  },
  {
   "cell_type": "code",
   "execution_count": 7,
   "id": "398e5b18-bea9-4d00-9cfa-c9e98cf44b22",
   "metadata": {},
   "outputs": [
    {
     "data": {
      "text/plain": [
       "['All Users', 'b', 'Default', 'Default User', 'desktop.ini', 'Public']"
      ]
     },
     "execution_count": 7,
     "metadata": {},
     "output_type": "execute_result"
    }
   ],
   "source": [
    "os.listdir(\"C:\\\\Users\")"
   ]
  },
  {
   "cell_type": "code",
   "execution_count": 8,
   "id": "60bebf24-daa0-4076-a011-87962471dd5e",
   "metadata": {},
   "outputs": [],
   "source": [
    "import shutil"
   ]
  },
  {
   "cell_type": "code",
   "execution_count": 18,
   "id": "a38dc9ed-b4cf-4d83-94e3-9a7b84ab6dfb",
   "metadata": {},
   "outputs": [
    {
     "data": {
      "text/plain": [
       "'C:\\\\Users\\\\b\\\\Documents\\\\Python Stuff\\\\Python Bootcamp Zero to Hero\\\\10 Advanced Modules\\\\Test\\\\practice.txt'"
      ]
     },
     "execution_count": 18,
     "metadata": {},
     "output_type": "execute_result"
    }
   ],
   "source": [
    "#shift tab to see documentation snippet\n",
    "shutil.move(\"practice.txt\", \"C:\\\\Users\\\\b\\\\Documents\\\\Python Stuff\\\\Python Bootcamp Zero to Hero\\\\10 Advanced Modules\\\\Test\")"
   ]
  },
  {
   "cell_type": "code",
   "execution_count": 14,
   "id": "38b18db6-c34d-4e44-a6a1-6620caff06cb",
   "metadata": {},
   "outputs": [
    {
     "data": {
      "text/plain": [
       "['practice.txt']"
      ]
     },
     "execution_count": 14,
     "metadata": {},
     "output_type": "execute_result"
    }
   ],
   "source": [
    "os.listdir(\"C:\\\\Users\\\\b\\\\Documents\\\\Python Stuff\\\\Python Bootcamp Zero to Hero\\\\10 Advanced Modules\\\\Test\")"
   ]
  },
  {
   "cell_type": "code",
   "execution_count": 19,
   "id": "4a5c1cfa-3146-4cff-84bf-bb78a7501e3f",
   "metadata": {},
   "outputs": [
    {
     "data": {
      "text/plain": [
       "'C:\\\\Users\\\\b\\\\Documents\\\\Python Stuff\\\\Python Bootcamp Zero to Hero\\\\10 Advanced Modules\\\\practice.txt'"
      ]
     },
     "execution_count": 19,
     "metadata": {},
     "output_type": "execute_result"
    }
   ],
   "source": [
    "shutil.move(\"C:\\\\Users\\\\b\\\\Documents\\\\Python Stuff\\\\Python Bootcamp Zero to Hero\\\\10 Advanced Modules\\\\Test\\\\practice.txt\", os.getcwd())\n",
    "#move to current working directory"
   ]
  },
  {
   "cell_type": "code",
   "execution_count": 20,
   "id": "734877bf-8fdb-4b18-bbbc-3504785f5670",
   "metadata": {},
   "outputs": [],
   "source": [
    "import send2trash"
   ]
  },
  {
   "cell_type": "code",
   "execution_count": 21,
   "id": "3b84e013-dfb0-4067-a2fc-270bb5d278f1",
   "metadata": {},
   "outputs": [
    {
     "data": {
      "text/plain": [
       "['.ipynb_checkpoints',\n",
       " 'collections_module.ipynb',\n",
       " 'practice.txt',\n",
       " 'Test',\n",
       " 'Untitled.ipynb']"
      ]
     },
     "execution_count": 21,
     "metadata": {},
     "output_type": "execute_result"
    }
   ],
   "source": [
    "os.listdir()"
   ]
  },
  {
   "cell_type": "code",
   "execution_count": 24,
   "id": "3975a12a-ccb3-4455-b8dc-a3aae1413936",
   "metadata": {},
   "outputs": [],
   "source": [
    "send2trash.send2trash(\"practice.txt\") #sends to recycle bin"
   ]
  },
  {
   "cell_type": "code",
   "execution_count": 23,
   "id": "7d308b16-077e-4b36-b7fd-e5f3bbe42560",
   "metadata": {},
   "outputs": [
    {
     "data": {
      "text/plain": [
       "['.ipynb_checkpoints', 'collections_module.ipynb', 'Test', 'Untitled.ipynb']"
      ]
     },
     "execution_count": 23,
     "metadata": {},
     "output_type": "execute_result"
    }
   ],
   "source": [
    "os.listdir()"
   ]
  },
  {
   "cell_type": "code",
   "execution_count": 29,
   "id": "f137a7bf-a293-4dfc-8c0a-6ce50f39bbc9",
   "metadata": {},
   "outputs": [],
   "source": [
    "file_path = \"C:\\\\Users\\\\b\\\\Documents\\\\Python Stuff\\\\Python Bootcamp Zero to Hero\\\\10 Advanced Modules\\\\Example_Top_Level\""
   ]
  },
  {
   "cell_type": "code",
   "execution_count": 30,
   "id": "4cd231cc-ef08-4b0d-b023-cfc2bdfe5be2",
   "metadata": {},
   "outputs": [
    {
     "name": "stdout",
     "output_type": "stream",
     "text": [
      "Currently looking at C:\\Users\\b\\Documents\\Python Stuff\\Python Bootcamp Zero to Hero\\10 Advanced Modules\\Example_Top_Level\n",
      "\n",
      "\n",
      "The subfolders are: \n",
      "\t Subfolder: Mid-Example-One\n",
      "\n",
      "\n",
      "the files are: \n",
      "\t File: Mid-Example.txt\n",
      "\n",
      "\n",
      "Currently looking at C:\\Users\\b\\Documents\\Python Stuff\\Python Bootcamp Zero to Hero\\10 Advanced Modules\\Example_Top_Level\\Mid-Example-One\n",
      "\n",
      "\n",
      "The subfolders are: \n",
      "\t Subfolder: Bottom-Level-One\n",
      "\t Subfolder: Bottom-Level-Two\n",
      "\n",
      "\n",
      "the files are: \n",
      "\t File: Mid-Level-Doc.txt\n",
      "\n",
      "\n",
      "Currently looking at C:\\Users\\b\\Documents\\Python Stuff\\Python Bootcamp Zero to Hero\\10 Advanced Modules\\Example_Top_Level\\Mid-Example-One\\Bottom-Level-One\n",
      "\n",
      "\n",
      "The subfolders are: \n",
      "\n",
      "\n",
      "the files are: \n",
      "\t File: One_Text.txt\n",
      "\n",
      "\n",
      "Currently looking at C:\\Users\\b\\Documents\\Python Stuff\\Python Bootcamp Zero to Hero\\10 Advanced Modules\\Example_Top_Level\\Mid-Example-One\\Bottom-Level-Two\n",
      "\n",
      "\n",
      "The subfolders are: \n",
      "\n",
      "\n",
      "the files are: \n",
      "\t File: Bottom-Text-Two.txt\n",
      "\n",
      "\n"
     ]
    }
   ],
   "source": [
    "for folder, sub_folders, files in os.walk(file_path):\n",
    "    print(f\"Currently looking at {folder}\")\n",
    "    print(\"\\n\")\n",
    "    print(\"The subfolders are: \")\n",
    "    for sub_fold in sub_folders:\n",
    "        print(f\"\\t Subfolder: {sub_fold}\")\n",
    "    print(\"\\n\")\n",
    "    print(\"the files are: \")\n",
    "    for f in files:\n",
    "        print(f\"\\t File: {f}\")\n",
    "    print('\\n')"
   ]
  },
  {
   "cell_type": "code",
   "execution_count": null,
   "id": "64ff8ebd-e96c-4786-a221-5980ef568298",
   "metadata": {},
   "outputs": [],
   "source": []
  }
 ],
 "metadata": {
  "kernelspec": {
   "display_name": "Python [conda env:base] *",
   "language": "python",
   "name": "conda-base-py"
  },
  "language_info": {
   "codemirror_mode": {
    "name": "ipython",
    "version": 3
   },
   "file_extension": ".py",
   "mimetype": "text/x-python",
   "name": "python",
   "nbconvert_exporter": "python",
   "pygments_lexer": "ipython3",
   "version": "3.12.7"
  }
 },
 "nbformat": 4,
 "nbformat_minor": 5
}
