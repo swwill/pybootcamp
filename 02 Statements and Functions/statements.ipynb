{
 "cells": [
  {
   "cell_type": "code",
   "execution_count": 1,
   "id": "097a857c",
   "metadata": {},
   "outputs": [
    {
     "name": "stdout",
     "output_type": "stream",
     "text": [
      "Not Hungry\n"
     ]
    }
   ],
   "source": [
    "hungry = False\n",
    "\n",
    "if hungry:\n",
    "    print('Feed me')\n",
    "else: \n",
    "    print(\"Not Hungry\")"
   ]
  },
  {
   "cell_type": "code",
   "execution_count": 2,
   "id": "0e799af5",
   "metadata": {},
   "outputs": [
    {
     "name": "stdout",
     "output_type": "stream",
     "text": [
      "Feed me\n"
     ]
    }
   ],
   "source": [
    "hungry = True\n",
    "\n",
    "if hungry:\n",
    "    print('Feed me')\n",
    "else: \n",
    "    print(\"Not Hungry\")"
   ]
  },
  {
   "cell_type": "code",
   "execution_count": 3,
   "id": "6adad991",
   "metadata": {},
   "outputs": [
    {
     "name": "stdout",
     "output_type": "stream",
     "text": [
      "Welcome to the store!\n"
     ]
    }
   ],
   "source": [
    "loc = 'Store'\n",
    "\n",
    "if loc == 'Auto Shop':\n",
    "    print(\"Cars are cool\")\n",
    "elif loc == 'Bank':\n",
    "    [rint('Money is cool')]\n",
    "elif loc == 'Store':\n",
    "    print('Welcome to the store!')\n",
    "else:\n",
    "    print(\"I do not know much\")"
   ]
  },
  {
   "cell_type": "code",
   "execution_count": 2,
   "id": "6371f350",
   "metadata": {},
   "outputs": [],
   "source": [
    "mylist = [1, 2, 3, 4, 5]"
   ]
  },
  {
   "cell_type": "code",
   "execution_count": 5,
   "id": "02eb90f3",
   "metadata": {},
   "outputs": [
    {
     "name": "stdout",
     "output_type": "stream",
     "text": [
      "1\n",
      "2\n",
      "3\n",
      "4\n",
      "5\n"
     ]
    }
   ],
   "source": [
    "for num in mylist:\n",
    "    print(num)"
   ]
  },
  {
   "cell_type": "code",
   "execution_count": 8,
   "id": "4bae7089",
   "metadata": {},
   "outputs": [
    {
     "name": "stdout",
     "output_type": "stream",
     "text": [
      "1\n",
      "2\n",
      "3\n",
      "4\n",
      "5\n"
     ]
    }
   ],
   "source": [
    "for jelly in mylist:\n",
    "    print(jelly)"
   ]
  },
  {
   "cell_type": "code",
   "execution_count": 9,
   "id": "0a8f1dac",
   "metadata": {},
   "outputs": [
    {
     "name": "stdout",
     "output_type": "stream",
     "text": [
      "hello\n",
      "hello\n",
      "hello\n",
      "hello\n",
      "hello\n"
     ]
    }
   ],
   "source": [
    "for num in mylist:\n",
    "    print('hello')"
   ]
  },
  {
   "cell_type": "code",
   "execution_count": 14,
   "id": "09ad9784",
   "metadata": {},
   "outputs": [
    {
     "name": "stdout",
     "output_type": "stream",
     "text": [
      "Odd Number: 1\n",
      "2\n",
      "Odd Number: 3\n",
      "4\n",
      "Odd Number: 5\n"
     ]
    }
   ],
   "source": [
    "for num in mylist:\n",
    "    #ck for even\n",
    "    if num % 2 == 0:\n",
    "        print(num)\n",
    "    else:\n",
    "        print(f'Odd Number: {num}')"
   ]
  },
  {
   "cell_type": "code",
   "execution_count": 3,
   "id": "ca58066e",
   "metadata": {},
   "outputs": [
    {
     "name": "stdout",
     "output_type": "stream",
     "text": [
      "15\n"
     ]
    }
   ],
   "source": [
    "list_sum = 0\n",
    "\n",
    "for num in mylist:\n",
    "    list_sum = list_sum + num\n",
    "print(list_sum)"
   ]
  },
  {
   "cell_type": "code",
   "execution_count": 4,
   "id": "3c629c22",
   "metadata": {},
   "outputs": [
    {
     "name": "stdout",
     "output_type": "stream",
     "text": [
      "1\n",
      "3\n",
      "6\n",
      "10\n",
      "15\n"
     ]
    }
   ],
   "source": [
    "list_sum = 0\n",
    "\n",
    "for num in mylist:\n",
    "    list_sum = list_sum + num\n",
    "    print(list_sum)"
   ]
  },
  {
   "cell_type": "code",
   "execution_count": 5,
   "id": "dd43b9b1",
   "metadata": {},
   "outputs": [
    {
     "name": "stdout",
     "output_type": "stream",
     "text": [
      "H\n",
      "e\n",
      "l\n",
      "l\n",
      "o\n",
      " \n",
      "W\n",
      "o\n",
      "r\n",
      "l\n",
      "d\n"
     ]
    }
   ],
   "source": [
    "mystring = 'Hello World'\n",
    "\n",
    "for letter in mystring:\n",
    "    print(letter)"
   ]
  },
  {
   "cell_type": "code",
   "execution_count": 6,
   "id": "b424c3b8",
   "metadata": {},
   "outputs": [
    {
     "name": "stdout",
     "output_type": "stream",
     "text": [
      "H\n",
      "e\n",
      "l\n",
      "l\n",
      "o\n",
      " \n",
      "W\n",
      "o\n",
      "r\n",
      "l\n",
      "d\n"
     ]
    }
   ],
   "source": [
    "for letter in 'Hello World':\n",
    "    print(letter)"
   ]
  },
  {
   "cell_type": "code",
   "execution_count": 9,
   "id": "ea01bee9",
   "metadata": {},
   "outputs": [],
   "source": [
    "tuplist = [(1, 2), (3,4), (5, 6)]"
   ]
  },
  {
   "cell_type": "code",
   "execution_count": 10,
   "id": "11553810",
   "metadata": {},
   "outputs": [
    {
     "data": {
      "text/plain": [
       "3"
      ]
     },
     "execution_count": 10,
     "metadata": {},
     "output_type": "execute_result"
    }
   ],
   "source": [
    "len(tuplist)"
   ]
  },
  {
   "cell_type": "code",
   "execution_count": 11,
   "id": "4313f9d4",
   "metadata": {},
   "outputs": [
    {
     "name": "stdout",
     "output_type": "stream",
     "text": [
      "(1, 2)\n",
      "(3, 4)\n",
      "(5, 6)\n"
     ]
    }
   ],
   "source": [
    "for item in tuplist:\n",
    "    print(item)"
   ]
  },
  {
   "cell_type": "code",
   "execution_count": 13,
   "id": "89f1d924",
   "metadata": {},
   "outputs": [
    {
     "name": "stdout",
     "output_type": "stream",
     "text": [
      "1\n",
      "3\n",
      "5\n"
     ]
    }
   ],
   "source": [
    "for (a, b) in tuplist:\n",
    "    print(a)\n",
    "    #print(b)"
   ]
  },
  {
   "cell_type": "code",
   "execution_count": 14,
   "id": "5ceb4679",
   "metadata": {},
   "outputs": [
    {
     "name": "stdout",
     "output_type": "stream",
     "text": [
      "1\n",
      "3\n",
      "5\n"
     ]
    }
   ],
   "source": [
    "for a, b in tuplist:\n",
    "    print(a)\n",
    "    #print(b)"
   ]
  },
  {
   "cell_type": "code",
   "execution_count": 15,
   "id": "a2b805ea",
   "metadata": {},
   "outputs": [
    {
     "name": "stdout",
     "output_type": "stream",
     "text": [
      "k1\n",
      "k2\n",
      "k3\n"
     ]
    }
   ],
   "source": [
    "d = {'k1': 1, 'k2': 2, 'k3': 3}\n",
    "\n",
    "for item in d:\n",
    "    print(item)"
   ]
  },
  {
   "cell_type": "code",
   "execution_count": 16,
   "id": "36e5c947",
   "metadata": {},
   "outputs": [
    {
     "name": "stdout",
     "output_type": "stream",
     "text": [
      "('k1', 1)\n",
      "('k2', 2)\n",
      "('k3', 3)\n"
     ]
    }
   ],
   "source": [
    "for item in d.items():\n",
    "    print(item)"
   ]
  },
  {
   "cell_type": "code",
   "execution_count": 19,
   "id": "ef04ebc3",
   "metadata": {},
   "outputs": [
    {
     "name": "stdout",
     "output_type": "stream",
     "text": [
      "1\n",
      "2\n",
      "3\n"
     ]
    }
   ],
   "source": [
    "for key,value in d.items():\n",
    "    print(value)"
   ]
  },
  {
   "cell_type": "code",
   "execution_count": 21,
   "id": "27ee2e26",
   "metadata": {},
   "outputs": [
    {
     "name": "stdout",
     "output_type": "stream",
     "text": [
      "The current value of x is 0\n",
      "The current value of x is 1\n",
      "The current value of x is 2\n",
      "The current value of x is 3\n",
      "The current value of x is 4\n"
     ]
    }
   ],
   "source": [
    "x = 0\n",
    "\n",
    "while x < 5:\n",
    "    print(f'The current value of x is {x}')\n",
    "    x = x + 1"
   ]
  },
  {
   "cell_type": "code",
   "execution_count": 24,
   "id": "6cc73234",
   "metadata": {},
   "outputs": [
    {
     "name": "stdout",
     "output_type": "stream",
     "text": [
      "X is not less than 5\n"
     ]
    }
   ],
   "source": [
    "x = 50\n",
    "\n",
    "while x < 5:\n",
    "    print(f'The current value of x is {x}')\n",
    "          \n",
    "    x += 1\n",
    "else:\n",
    "    print(\"X is not less than 5\")"
   ]
  },
  {
   "cell_type": "code",
   "execution_count": 25,
   "id": "295c15ab",
   "metadata": {},
   "outputs": [
    {
     "name": "stdout",
     "output_type": "stream",
     "text": [
      "end of script\n"
     ]
    }
   ],
   "source": [
    "x = [1, 2, 3]\n",
    "\n",
    "for item in x:\n",
    "    #stuff\n",
    "    pass #pass does nothing, serves as placeholder\n",
    "print('end of script')"
   ]
  },
  {
   "cell_type": "code",
   "execution_count": 27,
   "id": "d9ffaf57",
   "metadata": {},
   "outputs": [
    {
     "name": "stdout",
     "output_type": "stream",
     "text": [
      "S\n",
      "m\n",
      "m\n",
      "y\n"
     ]
    }
   ],
   "source": [
    "mystring = 'Sammy'\n",
    "\n",
    "for letter in mystring:\n",
    "    if letter == 'a':\n",
    "        continue #goes to the to pof the closest enclosing loop\n",
    "    print(letter)"
   ]
  },
  {
   "cell_type": "code",
   "execution_count": 28,
   "id": "a939bd2d",
   "metadata": {},
   "outputs": [
    {
     "name": "stdout",
     "output_type": "stream",
     "text": [
      "S\n"
     ]
    }
   ],
   "source": [
    "for letter in mystring:\n",
    "    if letter == 'a':\n",
    "        break\n",
    "    print(letter)"
   ]
  },
  {
   "cell_type": "code",
   "execution_count": 29,
   "id": "cdcd1b65",
   "metadata": {},
   "outputs": [
    {
     "name": "stdout",
     "output_type": "stream",
     "text": [
      "0\n",
      "1\n"
     ]
    }
   ],
   "source": [
    "x = 0\n",
    "\n",
    "while x < 5:\n",
    "    if x == 2:\n",
    "        break\n",
    "    print(x)\n",
    "    x += 1"
   ]
  },
  {
   "cell_type": "code",
   "execution_count": 1,
   "id": "feb2a500",
   "metadata": {},
   "outputs": [],
   "source": [
    "mylist = [1, 2, 3]"
   ]
  },
  {
   "cell_type": "code",
   "execution_count": 2,
   "id": "6a227247-e364-4f53-a2ee-076f9e36666e",
   "metadata": {},
   "outputs": [
    {
     "name": "stdout",
     "output_type": "stream",
     "text": [
      "0\n",
      "2\n",
      "4\n",
      "6\n",
      "8\n",
      "10\n"
     ]
    }
   ],
   "source": [
    "for num in range(0, 11, 2):\n",
    "    print(num)"
   ]
  },
  {
   "cell_type": "code",
   "execution_count": 4,
   "id": "3e62cd09-ad59-4867-b10c-c7981bb542c9",
   "metadata": {},
   "outputs": [
    {
     "data": {
      "text/plain": [
       "range(0, 11, 2)"
      ]
     },
     "execution_count": 4,
     "metadata": {},
     "output_type": "execute_result"
    }
   ],
   "source": [
    "range(0, 11, 2) #generates numbers, to see actual vals, put in list"
   ]
  },
  {
   "cell_type": "code",
   "execution_count": 5,
   "id": "bce48e51-207f-4163-b095-8ea96dd3a6dc",
   "metadata": {},
   "outputs": [
    {
     "data": {
      "text/plain": [
       "[0, 2, 4, 6, 8, 10]"
      ]
     },
     "execution_count": 5,
     "metadata": {},
     "output_type": "execute_result"
    }
   ],
   "source": [
    "list(range(0, 11, 2))"
   ]
  },
  {
   "cell_type": "code",
   "execution_count": 8,
   "id": "72f53872-1398-48c4-9763-efe135d8d68f",
   "metadata": {},
   "outputs": [
    {
     "name": "stdout",
     "output_type": "stream",
     "text": [
      "At index 0 the letter is a\n",
      "At index 1 the letter is b\n",
      "At index 2 the letter is c\n",
      "At index 3 the letter is d\n",
      "At index 4 the letter is e\n"
     ]
    }
   ],
   "source": [
    "index_count = 0\n",
    "\n",
    "for letter in 'abcde':\n",
    "    print('At index {} the letter is {}'.format(index_count, letter))\n",
    "    index_count += 1"
   ]
  },
  {
   "cell_type": "code",
   "execution_count": 9,
   "id": "022b08bb-e4c3-4818-bdea-a701cc753668",
   "metadata": {},
   "outputs": [
    {
     "name": "stdout",
     "output_type": "stream",
     "text": [
      "a\n",
      "b\n",
      "c\n",
      "d\n",
      "e\n"
     ]
    }
   ],
   "source": [
    "index_count = 0\n",
    "word = 'abcde'\n",
    "\n",
    "for letter in word:\n",
    "    print(word[index_count])\n",
    "    index_count += 1"
   ]
  },
  {
   "cell_type": "code",
   "execution_count": 10,
   "id": "56575497-3539-413d-a8c0-5624b0fc8521",
   "metadata": {},
   "outputs": [
    {
     "name": "stdout",
     "output_type": "stream",
     "text": [
      "(0, 'a')\n",
      "(1, 'b')\n",
      "(2, 'c')\n",
      "(3, 'd')\n",
      "(4, 'e')\n"
     ]
    }
   ],
   "source": [
    "word = 'abcde'\n",
    "\n",
    "for item in enumerate(word):\n",
    "    print(item)"
   ]
  },
  {
   "cell_type": "code",
   "execution_count": 11,
   "id": "71b6d233-cab0-4e61-bbfb-022c9c9e20ac",
   "metadata": {},
   "outputs": [
    {
     "name": "stdout",
     "output_type": "stream",
     "text": [
      "0\n",
      "a\n",
      "\n",
      "\n",
      "1\n",
      "b\n",
      "\n",
      "\n",
      "2\n",
      "c\n",
      "\n",
      "\n",
      "3\n",
      "d\n",
      "\n",
      "\n",
      "4\n",
      "e\n",
      "\n",
      "\n"
     ]
    }
   ],
   "source": [
    "for index,letter in enumerate(word): #shift tab for quick help\n",
    "    print(index)\n",
    "    print(letter)\n",
    "    print('\\n')"
   ]
  },
  {
   "cell_type": "code",
   "execution_count": 19,
   "id": "9cc2da86-4796-4545-8861-a017acaaaf08",
   "metadata": {},
   "outputs": [],
   "source": [
    "mylist1 = [1, 2, 3, 4, 5, 6]\n",
    "mylist2 = ['a', 'b', 'c']\n",
    "mylist3 = [100, 200, 300]"
   ]
  },
  {
   "cell_type": "code",
   "execution_count": 20,
   "id": "74eb0169-8058-41e0-9bf5-b44032103a9b",
   "metadata": {},
   "outputs": [
    {
     "name": "stdout",
     "output_type": "stream",
     "text": [
      "(1, 'a', 100)\n",
      "(2, 'b', 200)\n",
      "(3, 'c', 300)\n"
     ]
    }
   ],
   "source": [
    "for item in zip(mylist1, mylist2, mylist3):\n",
    "    print(item)"
   ]
  },
  {
   "cell_type": "code",
   "execution_count": 21,
   "id": "ad679063-5556-42eb-a98f-27c0fe4e634e",
   "metadata": {},
   "outputs": [
    {
     "data": {
      "text/plain": [
       "[(1, 'a'), (2, 'b'), (3, 'c')]"
      ]
     },
     "execution_count": 21,
     "metadata": {},
     "output_type": "execute_result"
    }
   ],
   "source": [
    "list(zip(mylist1, mylist2))"
   ]
  },
  {
   "cell_type": "code",
   "execution_count": 22,
   "id": "dbfa0c74-cf88-4185-b533-2a08ffb62717",
   "metadata": {},
   "outputs": [
    {
     "data": {
      "text/plain": [
       "False"
      ]
     },
     "execution_count": 22,
     "metadata": {},
     "output_type": "execute_result"
    }
   ],
   "source": [
    "'x' in [1, 2, 3]"
   ]
  },
  {
   "cell_type": "code",
   "execution_count": 23,
   "id": "4646ee58-e6be-41bc-9f3b-c64f0dc23dc4",
   "metadata": {},
   "outputs": [
    {
     "data": {
      "text/plain": [
       "True"
      ]
     },
     "execution_count": 23,
     "metadata": {},
     "output_type": "execute_result"
    }
   ],
   "source": [
    "'x' in ['x', 'y', 'z']"
   ]
  },
  {
   "cell_type": "code",
   "execution_count": 24,
   "id": "43ec0a49-f883-4914-9def-719a36ef9e62",
   "metadata": {},
   "outputs": [
    {
     "data": {
      "text/plain": [
       "True"
      ]
     },
     "execution_count": 24,
     "metadata": {},
     "output_type": "execute_result"
    }
   ],
   "source": [
    "'a' in 'cat'"
   ]
  },
  {
   "cell_type": "code",
   "execution_count": 25,
   "id": "55f9bb8d-f251-4cce-95ac-863f603e23cd",
   "metadata": {},
   "outputs": [
    {
     "data": {
      "text/plain": [
       "True"
      ]
     },
     "execution_count": 25,
     "metadata": {},
     "output_type": "execute_result"
    }
   ],
   "source": [
    "'mykey' in {'mykey': 345}"
   ]
  },
  {
   "cell_type": "code",
   "execution_count": 26,
   "id": "ea6a9d92-36a2-4d7c-aee4-2d3746d8e39b",
   "metadata": {},
   "outputs": [
    {
     "data": {
      "text/plain": [
       "True"
      ]
     },
     "execution_count": 26,
     "metadata": {},
     "output_type": "execute_result"
    }
   ],
   "source": [
    "d = {'mykey': 345}\n",
    "345 in d.values()"
   ]
  },
  {
   "cell_type": "code",
   "execution_count": 27,
   "id": "86adec86-7cc3-48ea-b2e9-53f59d66a701",
   "metadata": {},
   "outputs": [
    {
     "data": {
      "text/plain": [
       "False"
      ]
     },
     "execution_count": 27,
     "metadata": {},
     "output_type": "execute_result"
    }
   ],
   "source": [
    "345 in d.keys()"
   ]
  },
  {
   "cell_type": "code",
   "execution_count": 28,
   "id": "6f63c41a-2fce-48f3-ad00-e471f8fa65df",
   "metadata": {},
   "outputs": [],
   "source": [
    "mylist = [5, 10, 15]"
   ]
  },
  {
   "cell_type": "code",
   "execution_count": 30,
   "id": "5fff35be-a737-4ef2-957e-f4adda8db146",
   "metadata": {},
   "outputs": [
    {
     "data": {
      "text/plain": [
       "5"
      ]
     },
     "execution_count": 30,
     "metadata": {},
     "output_type": "execute_result"
    }
   ],
   "source": [
    "min(mylist)"
   ]
  },
  {
   "cell_type": "code",
   "execution_count": 31,
   "id": "ec9601da-3c85-46cd-b9b5-1b7907df8e79",
   "metadata": {},
   "outputs": [
    {
     "data": {
      "text/plain": [
       "15"
      ]
     },
     "execution_count": 31,
     "metadata": {},
     "output_type": "execute_result"
    }
   ],
   "source": [
    "max(mylist)"
   ]
  },
  {
   "cell_type": "code",
   "execution_count": 32,
   "id": "4119525a-7cea-498d-a7c7-7a241d60a46a",
   "metadata": {},
   "outputs": [],
   "source": [
    "from random import shuffle"
   ]
  },
  {
   "cell_type": "code",
   "execution_count": 33,
   "id": "19a4a24f-1557-406e-971a-8ad0f11e689a",
   "metadata": {},
   "outputs": [],
   "source": [
    "mylist = [1, 2, 3, 4, 5, 6, 7, 8]"
   ]
  },
  {
   "cell_type": "code",
   "execution_count": 34,
   "id": "1024d858-f28a-4e99-82c2-71109eefe09d",
   "metadata": {},
   "outputs": [],
   "source": [
    "shuffle(mylist)"
   ]
  },
  {
   "cell_type": "code",
   "execution_count": 35,
   "id": "7604d48e-74ce-47f2-b178-7d6e84af7973",
   "metadata": {},
   "outputs": [
    {
     "data": {
      "text/plain": [
       "[7, 2, 4, 3, 6, 8, 5, 1]"
      ]
     },
     "execution_count": 35,
     "metadata": {},
     "output_type": "execute_result"
    }
   ],
   "source": [
    "mylist"
   ]
  },
  {
   "cell_type": "code",
   "execution_count": 36,
   "id": "2f1fa57c-22c3-4da5-8474-980864412965",
   "metadata": {},
   "outputs": [],
   "source": [
    "shuffle(mylist)"
   ]
  },
  {
   "cell_type": "code",
   "execution_count": 37,
   "id": "88af8047-8bae-4391-b2ab-dbd3d67894dd",
   "metadata": {},
   "outputs": [
    {
     "data": {
      "text/plain": [
       "[1, 6, 3, 4, 5, 8, 7, 2]"
      ]
     },
     "execution_count": 37,
     "metadata": {},
     "output_type": "execute_result"
    }
   ],
   "source": [
    "mylist"
   ]
  },
  {
   "cell_type": "code",
   "execution_count": 38,
   "id": "25b514f5-c952-4b3c-944c-4cec5cc3ca4c",
   "metadata": {},
   "outputs": [],
   "source": [
    "from random import randint"
   ]
  },
  {
   "cell_type": "code",
   "execution_count": 40,
   "id": "abc5002b-8cae-4484-b619-ef1d857e81f1",
   "metadata": {},
   "outputs": [
    {
     "data": {
      "text/plain": [
       "73"
      ]
     },
     "execution_count": 40,
     "metadata": {},
     "output_type": "execute_result"
    }
   ],
   "source": [
    "randint(0, 100)"
   ]
  },
  {
   "cell_type": "code",
   "execution_count": 42,
   "id": "eb460d89-aecc-4625-94f8-84acda7a6ef4",
   "metadata": {},
   "outputs": [],
   "source": [
    "mynum = randint(0, 10)"
   ]
  },
  {
   "cell_type": "code",
   "execution_count": 43,
   "id": "1c5919d0-962d-4cea-96c7-790bdd2e4b5b",
   "metadata": {},
   "outputs": [
    {
     "data": {
      "text/plain": [
       "4"
      ]
     },
     "execution_count": 43,
     "metadata": {},
     "output_type": "execute_result"
    }
   ],
   "source": [
    "mynum"
   ]
  },
  {
   "cell_type": "code",
   "execution_count": 44,
   "id": "24413fac-e651-4767-be36-880b1ec53972",
   "metadata": {},
   "outputs": [
    {
     "name": "stdin",
     "output_type": "stream",
     "text": [
      "Enter a number here:  50\n"
     ]
    },
    {
     "data": {
      "text/plain": [
       "'50'"
      ]
     },
     "execution_count": 44,
     "metadata": {},
     "output_type": "execute_result"
    }
   ],
   "source": [
    "#to ask for user input, use input\n",
    "input('Enter a number here: ')"
   ]
  },
  {
   "cell_type": "code",
   "execution_count": 45,
   "id": "fcde90ad-1641-4e25-ac89-842c2fe20d04",
   "metadata": {},
   "outputs": [
    {
     "name": "stdin",
     "output_type": "stream",
     "text": [
      "Enter a name here:  Tom\n"
     ]
    }
   ],
   "source": [
    "result = input('Enter a name here: ')"
   ]
  },
  {
   "cell_type": "code",
   "execution_count": 46,
   "id": "85be6848-a11c-46e2-8647-bb522db78b38",
   "metadata": {},
   "outputs": [
    {
     "data": {
      "text/plain": [
       "'Tom'"
      ]
     },
     "execution_count": 46,
     "metadata": {},
     "output_type": "execute_result"
    }
   ],
   "source": [
    "result"
   ]
  },
  {
   "cell_type": "code",
   "execution_count": 47,
   "id": "c3bd56cf-c9c3-4dab-90d4-0e501dbba55b",
   "metadata": {},
   "outputs": [
    {
     "name": "stdin",
     "output_type": "stream",
     "text": [
      "Enter a number here:  5\n"
     ]
    }
   ],
   "source": [
    "#but it will be a string\n",
    "result2 = input('Enter a number here: ')"
   ]
  },
  {
   "cell_type": "code",
   "execution_count": 48,
   "id": "2a01a6ae-bfdd-4521-9d03-51b48f5e372d",
   "metadata": {},
   "outputs": [
    {
     "data": {
      "text/plain": [
       "'5'"
      ]
     },
     "execution_count": 48,
     "metadata": {},
     "output_type": "execute_result"
    }
   ],
   "source": [
    "result2"
   ]
  },
  {
   "cell_type": "code",
   "execution_count": 49,
   "id": "a065aba5-84ef-4aad-b23b-917ccb1ba93e",
   "metadata": {},
   "outputs": [
    {
     "data": {
      "text/plain": [
       "str"
      ]
     },
     "execution_count": 49,
     "metadata": {},
     "output_type": "execute_result"
    }
   ],
   "source": [
    "type(result2)"
   ]
  },
  {
   "cell_type": "code",
   "execution_count": 50,
   "id": "155269d4-2b5b-4eff-9969-35bb198f9eed",
   "metadata": {},
   "outputs": [
    {
     "data": {
      "text/plain": [
       "5.0"
      ]
     },
     "execution_count": 50,
     "metadata": {},
     "output_type": "execute_result"
    }
   ],
   "source": [
    "float(result2)\n",
    "\n",
    "#or \n",
    "#int(result2)"
   ]
  },
  {
   "cell_type": "code",
   "execution_count": 51,
   "id": "f3376b32-e911-421c-aecf-83000437badd",
   "metadata": {},
   "outputs": [
    {
     "data": {
      "text/plain": [
       "str"
      ]
     },
     "execution_count": 51,
     "metadata": {},
     "output_type": "execute_result"
    }
   ],
   "source": [
    "type(result2)"
   ]
  },
  {
   "cell_type": "code",
   "execution_count": 52,
   "id": "5ca409ef-8e16-4b0c-a5bb-89ba88fb4037",
   "metadata": {},
   "outputs": [
    {
     "name": "stdin",
     "output_type": "stream",
     "text": [
      "Enter a number here:  2\n"
     ]
    }
   ],
   "source": [
    "#so have to cast in same line or always call it with the the function to make it\n",
    "#the type you want\n",
    "\n",
    "result2 = int(input(\"Enter a number here: \"))"
   ]
  },
  {
   "cell_type": "code",
   "execution_count": 53,
   "id": "e457eafa-0d1b-41bc-a722-10a3be4e0ba9",
   "metadata": {},
   "outputs": [
    {
     "data": {
      "text/plain": [
       "int"
      ]
     },
     "execution_count": 53,
     "metadata": {},
     "output_type": "execute_result"
    }
   ],
   "source": [
    "type(result2)"
   ]
  },
  {
   "cell_type": "code",
   "execution_count": null,
   "id": "2c8daaca-d754-4329-97fa-ef7e547f0ed4",
   "metadata": {},
   "outputs": [],
   "source": []
  }
 ],
 "metadata": {
  "kernelspec": {
   "display_name": "Python 3 (ipykernel)",
   "language": "python",
   "name": "python3"
  },
  "language_info": {
   "codemirror_mode": {
    "name": "ipython",
    "version": 3
   },
   "file_extension": ".py",
   "mimetype": "text/x-python",
   "name": "python",
   "nbconvert_exporter": "python",
   "pygments_lexer": "ipython3",
   "version": "3.9.12"
  }
 },
 "nbformat": 4,
 "nbformat_minor": 5
}
