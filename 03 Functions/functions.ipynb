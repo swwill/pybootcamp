{
 "cells": [
  {
   "cell_type": "code",
   "execution_count": 1,
   "id": "01068109-e812-4a05-92cc-f762003c30d5",
   "metadata": {},
   "outputs": [],
   "source": [
    "#print vs return: return lets you save the result of a variable"
   ]
  },
  {
   "cell_type": "code",
   "execution_count": 2,
   "id": "805cabad-3415-4281-938a-7ff98be9776d",
   "metadata": {},
   "outputs": [],
   "source": [
    "def say_hello():\n",
    "    print('hello')"
   ]
  },
  {
   "cell_type": "code",
   "execution_count": 3,
   "id": "b808832d-1c00-4b6d-93f7-403af90c7638",
   "metadata": {},
   "outputs": [
    {
     "name": "stdout",
     "output_type": "stream",
     "text": [
      "hello\n"
     ]
    }
   ],
   "source": [
    "say_hello()"
   ]
  },
  {
   "cell_type": "code",
   "execution_count": 5,
   "id": "fbae020a-f23f-4b51-b517-c9f46d2f612f",
   "metadata": {},
   "outputs": [],
   "source": [
    "def say_hello(name):\n",
    "    print(f'Hello {name}')"
   ]
  },
  {
   "cell_type": "code",
   "execution_count": 6,
   "id": "a729c8e1-0c63-489b-b002-64a59462db89",
   "metadata": {},
   "outputs": [
    {
     "name": "stdout",
     "output_type": "stream",
     "text": [
      "Hello Sam\n"
     ]
    }
   ],
   "source": [
    "say_hello('Sam')\n",
    "#say_hello() #will throw error"
   ]
  },
  {
   "cell_type": "code",
   "execution_count": 7,
   "id": "851008c5-0d34-43a4-a3df-7211b96ff830",
   "metadata": {},
   "outputs": [],
   "source": [
    "def say_hello(name = 'default'):\n",
    "    print(f'Hello {name}')"
   ]
  },
  {
   "cell_type": "code",
   "execution_count": 8,
   "id": "ed47d6fc-f7d8-4ae8-8f17-876f7c0ad3bf",
   "metadata": {},
   "outputs": [
    {
     "name": "stdout",
     "output_type": "stream",
     "text": [
      "Hello default\n"
     ]
    }
   ],
   "source": [
    "say_hello()"
   ]
  },
  {
   "cell_type": "code",
   "execution_count": 9,
   "id": "cb20efeb-4420-49a7-abf2-8f3db99a25c6",
   "metadata": {},
   "outputs": [],
   "source": [
    "def add_num(num1, num2):\n",
    "    return num1 + num2"
   ]
  },
  {
   "cell_type": "code",
   "execution_count": 10,
   "id": "79ac615c-1358-4baf-9143-ba7cd4100168",
   "metadata": {},
   "outputs": [
    {
     "data": {
      "text/plain": [
       "30"
      ]
     },
     "execution_count": 10,
     "metadata": {},
     "output_type": "execute_result"
    }
   ],
   "source": [
    "add_num(10, 20)"
   ]
  },
  {
   "cell_type": "code",
   "execution_count": 11,
   "id": "01a97d84-b9c8-4470-99c0-2a20ed29e2a9",
   "metadata": {},
   "outputs": [],
   "source": [
    "def print_result(a, b):\n",
    "    print(a + b)"
   ]
  },
  {
   "cell_type": "code",
   "execution_count": 12,
   "id": "16a374f1-1e4f-456e-b785-fb7393b52c12",
   "metadata": {},
   "outputs": [],
   "source": [
    "def return_result(a, b):\n",
    "    return a + b"
   ]
  },
  {
   "cell_type": "code",
   "execution_count": 13,
   "id": "cece6c14-3b5c-451f-8fc1-6d2a7c35a493",
   "metadata": {},
   "outputs": [
    {
     "name": "stdout",
     "output_type": "stream",
     "text": [
      "30\n"
     ]
    }
   ],
   "source": [
    "print_result(10, 20)"
   ]
  },
  {
   "cell_type": "code",
   "execution_count": 14,
   "id": "ee7d41ed-4a00-46a6-9566-fa09deb1e775",
   "metadata": {},
   "outputs": [
    {
     "data": {
      "text/plain": [
       "30"
      ]
     },
     "execution_count": 14,
     "metadata": {},
     "output_type": "execute_result"
    }
   ],
   "source": [
    "return_result(10, 20)"
   ]
  },
  {
   "cell_type": "code",
   "execution_count": 15,
   "id": "4a6a52dc-e621-4ac6-9ef1-0b2f464f979f",
   "metadata": {},
   "outputs": [
    {
     "name": "stdout",
     "output_type": "stream",
     "text": [
      "30\n"
     ]
    }
   ],
   "source": [
    "result = print_result(10, 20)"
   ]
  },
  {
   "cell_type": "code",
   "execution_count": 16,
   "id": "5807f195-1938-4d40-adbf-310b74eebc28",
   "metadata": {},
   "outputs": [],
   "source": [
    "result"
   ]
  },
  {
   "cell_type": "code",
   "execution_count": 17,
   "id": "35a8adeb-200e-4708-8c15-704e8424e51d",
   "metadata": {},
   "outputs": [
    {
     "data": {
      "text/plain": [
       "NoneType"
      ]
     },
     "execution_count": 17,
     "metadata": {},
     "output_type": "execute_result"
    }
   ],
   "source": [
    "type(result) #bc didn't actually print anything"
   ]
  },
  {
   "cell_type": "code",
   "execution_count": 18,
   "id": "bf4c50f0-e998-4b54-ad6d-d2e822057c19",
   "metadata": {},
   "outputs": [],
   "source": [
    "result = return_result(10, 20)"
   ]
  },
  {
   "cell_type": "code",
   "execution_count": 19,
   "id": "e96a7604-3150-4656-88e8-096eeeab5f7a",
   "metadata": {},
   "outputs": [
    {
     "data": {
      "text/plain": [
       "30"
      ]
     },
     "execution_count": 19,
     "metadata": {},
     "output_type": "execute_result"
    }
   ],
   "source": [
    "result #whereas return does actually save the output"
   ]
  },
  {
   "cell_type": "code",
   "execution_count": 20,
   "id": "732e6880-42b0-4c72-aa48-299dfb88ab95",
   "metadata": {},
   "outputs": [
    {
     "data": {
      "text/plain": [
       "int"
      ]
     },
     "execution_count": 20,
     "metadata": {},
     "output_type": "execute_result"
    }
   ],
   "source": [
    "type(result)"
   ]
  },
  {
   "cell_type": "code",
   "execution_count": 22,
   "id": "83f18cce-e5c0-4656-b017-48aa25aca9a6",
   "metadata": {},
   "outputs": [],
   "source": [
    "#can use both so saves the result and you see it\n",
    "def myfunc(a, b):\n",
    "    print(a + b)\n",
    "    return a + b"
   ]
  },
  {
   "cell_type": "code",
   "execution_count": 23,
   "id": "a68f9ead-67d2-43f4-b300-d72fd84bfda4",
   "metadata": {},
   "outputs": [],
   "source": [
    "#python is dynamically typed, so don't need to specify type beforehand\n",
    "def sum_nums(num1, num2):\n",
    "    return num1 + num2"
   ]
  },
  {
   "cell_type": "code",
   "execution_count": 24,
   "id": "379903af-9613-4b1f-9c0e-c65c3aaf95d2",
   "metadata": {},
   "outputs": [
    {
     "data": {
      "text/plain": [
       "30"
      ]
     },
     "execution_count": 24,
     "metadata": {},
     "output_type": "execute_result"
    }
   ],
   "source": [
    "sum_nums(10, 20)"
   ]
  },
  {
   "cell_type": "code",
   "execution_count": 26,
   "id": "0b9ddfad-8363-4f1d-91a4-3c4db4f854c4",
   "metadata": {},
   "outputs": [
    {
     "data": {
      "text/plain": [
       "'1020'"
      ]
     },
     "execution_count": 26,
     "metadata": {},
     "output_type": "execute_result"
    }
   ],
   "source": [
    "sum_nums('10', '20') \n",
    "#when input as string, it just concatenates, so might want to add data \n",
    "#type check if will be using input from something else"
   ]
  },
  {
   "cell_type": "code",
   "execution_count": 27,
   "id": "893e1a1c-f571-4b7d-99cd-4d5214ac91f7",
   "metadata": {},
   "outputs": [],
   "source": [
    "def even_ck(number):\n",
    "    result = number % 2 == 0\n",
    "    return result"
   ]
  },
  {
   "cell_type": "code",
   "execution_count": 28,
   "id": "65361e1c-c0f2-482f-b4da-914bdb2283f1",
   "metadata": {},
   "outputs": [
    {
     "data": {
      "text/plain": [
       "True"
      ]
     },
     "execution_count": 28,
     "metadata": {},
     "output_type": "execute_result"
    }
   ],
   "source": [
    "even_ck(20)"
   ]
  },
  {
   "cell_type": "code",
   "execution_count": 34,
   "id": "728220fb-59b8-44ed-9bed-dc2471082e47",
   "metadata": {},
   "outputs": [],
   "source": [
    "#return true if any number is even inside a list\n",
    "\n",
    "def even_ck_list(num_list):\n",
    "    for number in num_list:\n",
    "        if number % 2 == 0:\n",
    "            return True\n",
    "        else:\n",
    "            pass #if you put it here, function will only check one num not the whole list\n",
    "        return False"
   ]
  },
  {
   "cell_type": "code",
   "execution_count": 32,
   "id": "d2727ab7-6c23-47f8-a747-aa9d3fdb2bae",
   "metadata": {},
   "outputs": [],
   "source": [
    "even_ck_list([1, 3, 5])"
   ]
  },
  {
   "cell_type": "code",
   "execution_count": 33,
   "id": "8c48a6b1-79ea-46a0-b62f-e2f2555cfce6",
   "metadata": {},
   "outputs": [
    {
     "data": {
      "text/plain": [
       "True"
      ]
     },
     "execution_count": 33,
     "metadata": {},
     "output_type": "execute_result"
    }
   ],
   "source": [
    "even_ck_list([2, 5, 9])"
   ]
  },
  {
   "cell_type": "code",
   "execution_count": 41,
   "id": "867ff462-73a6-4248-81de-7609aae1226d",
   "metadata": {},
   "outputs": [],
   "source": [
    "#return all even nums in a list\n",
    "\n",
    "def even_list(num_list):\n",
    "    even_numbers = []\n",
    "    \n",
    "    for number in num_list:\n",
    "        if number % 2 == 0:\n",
    "            even_numbers.append(number)\n",
    "            \n",
    "        else:\n",
    "            pass\n",
    "        \n",
    "    return even_numbers"
   ]
  },
  {
   "cell_type": "code",
   "execution_count": 42,
   "id": "ffa8a4a7-a45e-4eae-ad4a-8b7e57f2dca1",
   "metadata": {},
   "outputs": [
    {
     "data": {
      "text/plain": [
       "[8, 20, 26]"
      ]
     },
     "execution_count": 42,
     "metadata": {},
     "output_type": "execute_result"
    }
   ],
   "source": [
    "even_list([1, 5, 8, 20, 21, 26])"
   ]
  },
  {
   "cell_type": "code",
   "execution_count": 45,
   "id": "628c5973-3e73-4356-bc48-9a9553294529",
   "metadata": {},
   "outputs": [
    {
     "data": {
      "text/plain": [
       "[]"
      ]
     },
     "execution_count": 45,
     "metadata": {},
     "output_type": "execute_result"
    }
   ],
   "source": [
    "even_list([1, 3, 5]) #works as intended"
   ]
  },
  {
   "cell_type": "code",
   "execution_count": 46,
   "id": "af686661-46d9-4a0d-ae61-ed60551fa280",
   "metadata": {},
   "outputs": [],
   "source": [
    "stock_prices = [('APPL', 200), ('GOOG', 400), ('MSFT', 100)]"
   ]
  },
  {
   "cell_type": "code",
   "execution_count": 47,
   "id": "1cb795d8-7ae6-4d7a-ae7c-24e383d74bc7",
   "metadata": {},
   "outputs": [
    {
     "name": "stdout",
     "output_type": "stream",
     "text": [
      "('APPL', 200)\n",
      "('GOOG', 400)\n",
      "('MSFT', 100)\n"
     ]
    }
   ],
   "source": [
    "for item in stock_prices:\n",
    "    print(item)"
   ]
  },
  {
   "cell_type": "code",
   "execution_count": 48,
   "id": "68269dd4-0fe8-483f-a7ed-2c2f50375d52",
   "metadata": {},
   "outputs": [
    {
     "name": "stdout",
     "output_type": "stream",
     "text": [
      "220.0\n",
      "440.0\n",
      "110.0\n"
     ]
    }
   ],
   "source": [
    "for ticker, price in stock_prices:\n",
    "    print(price + (.1 * price))"
   ]
  },
  {
   "cell_type": "code",
   "execution_count": 49,
   "id": "561df4b8-8c0b-4f3f-90fa-24186bc721d4",
   "metadata": {},
   "outputs": [
    {
     "name": "stdout",
     "output_type": "stream",
     "text": [
      "APPL\n",
      "GOOG\n",
      "MSFT\n"
     ]
    }
   ],
   "source": [
    "for ticker, price in stock_prices:\n",
    "    print(ticker)"
   ]
  },
  {
   "cell_type": "code",
   "execution_count": 53,
   "id": "31cc3ec4-9809-405c-91b7-1be44da386fd",
   "metadata": {},
   "outputs": [],
   "source": [
    "work_hours = [('Abby', 100), ('Billy', 4000), ('Cassie', 800)]"
   ]
  },
  {
   "cell_type": "code",
   "execution_count": 54,
   "id": "48adf69f-2447-4a97-a0cd-fc45330931e4",
   "metadata": {},
   "outputs": [],
   "source": [
    "def employee_ck(work_hours):\n",
    "    current_max = 0\n",
    "    employee_of_month = ''\n",
    "    \n",
    "    for employee, hours in work_hours:\n",
    "        if hours > current_max:\n",
    "            current_max = hours\n",
    "            employee_of_month = employee\n",
    "        else:\n",
    "            pass\n",
    "    \n",
    "    return (employee_of_month, current_max)"
   ]
  },
  {
   "cell_type": "code",
   "execution_count": 56,
   "id": "a384236a-4a2c-4d26-8f51-ae73101a4c20",
   "metadata": {},
   "outputs": [],
   "source": [
    "result = employee_ck(work_hours)"
   ]
  },
  {
   "cell_type": "code",
   "execution_count": 57,
   "id": "a7480d85-30d3-4bcc-ad1a-654954700d8d",
   "metadata": {},
   "outputs": [
    {
     "data": {
      "text/plain": [
       "('Billy', 4000)"
      ]
     },
     "execution_count": 57,
     "metadata": {},
     "output_type": "execute_result"
    }
   ],
   "source": [
    "result"
   ]
  },
  {
   "cell_type": "code",
   "execution_count": 58,
   "id": "47c45034-946d-4f42-b5cc-23f01cb76fec",
   "metadata": {},
   "outputs": [],
   "source": [
    "name, hours = employee_ck(work_hours)"
   ]
  },
  {
   "cell_type": "code",
   "execution_count": 59,
   "id": "53ca52ec-ac7e-4e6c-acf5-eaeeda863fe0",
   "metadata": {},
   "outputs": [
    {
     "data": {
      "text/plain": [
       "'Billy'"
      ]
     },
     "execution_count": 59,
     "metadata": {},
     "output_type": "execute_result"
    }
   ],
   "source": [
    "name"
   ]
  },
  {
   "cell_type": "code",
   "execution_count": 60,
   "id": "7073ae61-7d21-4d13-889d-3c7dac14012a",
   "metadata": {},
   "outputs": [
    {
     "data": {
      "text/plain": [
       "4000"
      ]
     },
     "execution_count": 60,
     "metadata": {},
     "output_type": "execute_result"
    }
   ],
   "source": [
    "hours"
   ]
  },
  {
   "cell_type": "code",
   "execution_count": 61,
   "id": "81e878bc-665d-41df-9ebf-5b04dfd4ea12",
   "metadata": {},
   "outputs": [],
   "source": [
    "example = [1, 2, 3, 4, 5, 6, 7]"
   ]
  },
  {
   "cell_type": "code",
   "execution_count": 62,
   "id": "2693ff92-e218-40e4-a0d1-52345d7c90a5",
   "metadata": {},
   "outputs": [],
   "source": [
    "from random import shuffle"
   ]
  },
  {
   "cell_type": "code",
   "execution_count": 68,
   "id": "8944ef54-12bf-4e23-a969-d6d21d70e32d",
   "metadata": {},
   "outputs": [],
   "source": [
    "shuffle(example) #doesn't actually have any output, it shuffles in place"
   ]
  },
  {
   "cell_type": "code",
   "execution_count": 69,
   "id": "622495a1-0a5b-498b-a2e9-e2449e9b3eaf",
   "metadata": {},
   "outputs": [
    {
     "data": {
      "text/plain": [
       "[3, 4, 5, 2, 6, 1, 7]"
      ]
     },
     "execution_count": 69,
     "metadata": {},
     "output_type": "execute_result"
    }
   ],
   "source": [
    "example"
   ]
  },
  {
   "cell_type": "code",
   "execution_count": 70,
   "id": "69eee3be-4fa0-4978-b308-6d67793e6c28",
   "metadata": {},
   "outputs": [],
   "source": [
    "#function that actualy saves the output\n",
    "def shuffle_list(mylist):\n",
    "    shuffle(mylist)\n",
    "    return mylist"
   ]
  },
  {
   "cell_type": "code",
   "execution_count": 66,
   "id": "e1ce81e2-a08b-4cf0-bf10-a1faa5e1f70b",
   "metadata": {},
   "outputs": [],
   "source": [
    "result = shuffle_list(example)"
   ]
  },
  {
   "cell_type": "code",
   "execution_count": 67,
   "id": "c41e3721-3dba-46e5-a7a5-afa75507894e",
   "metadata": {},
   "outputs": [
    {
     "data": {
      "text/plain": [
       "[6, 7, 3, 5, 1, 2, 4]"
      ]
     },
     "execution_count": 67,
     "metadata": {},
     "output_type": "execute_result"
    }
   ],
   "source": [
    "result"
   ]
  },
  {
   "cell_type": "code",
   "execution_count": 71,
   "id": "dc6201a2-74bd-40ff-ad24-dff6a9d9e9ba",
   "metadata": {},
   "outputs": [],
   "source": [
    "mylist = ['O', '', '']"
   ]
  },
  {
   "cell_type": "code",
   "execution_count": 74,
   "id": "f1a2f1c4-155a-4478-b547-ab3f32e75686",
   "metadata": {},
   "outputs": [],
   "source": [
    "def player_guess():\n",
    "    guess = ''\n",
    "    \n",
    "    while guess not in ['0', '1', '2']:\n",
    "        guess = input(\"Pick a number: 0, 1, or 2\")\n",
    "    return int(guess)"
   ]
  },
  {
   "cell_type": "code",
   "execution_count": 75,
   "id": "6b327987-efb7-4498-8921-c9d1717fc9f6",
   "metadata": {},
   "outputs": [
    {
     "name": "stdin",
     "output_type": "stream",
     "text": [
      "Pick a number: 0, 1, or 2 5\n",
      "Pick a number: 0, 1, or 2 8\n",
      "Pick a number: 0, 1, or 2 2\n"
     ]
    },
    {
     "data": {
      "text/plain": [
       "2"
      ]
     },
     "execution_count": 75,
     "metadata": {},
     "output_type": "execute_result"
    }
   ],
   "source": [
    "player_guess()"
   ]
  },
  {
   "cell_type": "code",
   "execution_count": 76,
   "id": "7f4f4311-ad90-42a6-bb6d-b6f5a49a1213",
   "metadata": {},
   "outputs": [
    {
     "name": "stdin",
     "output_type": "stream",
     "text": [
      "Pick a number: 0, 1, or 2 6\n",
      "Pick a number: 0, 1, or 2 7\n",
      "Pick a number: 0, 1, or 2 1\n"
     ]
    }
   ],
   "source": [
    "myindex = player_guess()"
   ]
  },
  {
   "cell_type": "code",
   "execution_count": 77,
   "id": "a82969c3-d671-453c-90ef-931155d9e874",
   "metadata": {},
   "outputs": [
    {
     "data": {
      "text/plain": [
       "1"
      ]
     },
     "execution_count": 77,
     "metadata": {},
     "output_type": "execute_result"
    }
   ],
   "source": [
    "myindex"
   ]
  },
  {
   "cell_type": "code",
   "execution_count": 78,
   "id": "0afda93a-3ef6-4480-a6aa-867559e068c2",
   "metadata": {},
   "outputs": [],
   "source": [
    "def check_guess(mylist, guess):\n",
    "    if mylist[guess] == 'O':\n",
    "        print('Correct')\n",
    "    else:\n",
    "        print(\"Wrong guess!\")\n",
    "        print(mylist)"
   ]
  },
  {
   "cell_type": "code",
   "execution_count": 79,
   "id": "a74f0550-2e71-4e25-b3df-f007e084d11a",
   "metadata": {},
   "outputs": [
    {
     "name": "stdin",
     "output_type": "stream",
     "text": [
      "Pick a number: 0, 1, or 2 6\n",
      "Pick a number: 0, 1, or 2 7\n",
      "Pick a number: 0, 1, or 2 1\n"
     ]
    },
    {
     "name": "stdout",
     "output_type": "stream",
     "text": [
      "Wrong guess!\n",
      "['O', ' ', ' ']\n"
     ]
    }
   ],
   "source": [
    "#initial list\n",
    "mylist = [' ', 'O', ' ']\n",
    "\n",
    "#shuffle list\n",
    "mixedup_list = shuffle_list(mylist)\n",
    "\n",
    "#user guess\n",
    "guess = player_guess()\n",
    "\n",
    "#ck guess\n",
    "check_guess(mixedup_list, guess)"
   ]
  },
  {
   "cell_type": "code",
   "execution_count": null,
   "id": "63f99d28-1e67-4094-a014-84cf4710fbf3",
   "metadata": {},
   "outputs": [],
   "source": []
  }
 ],
 "metadata": {
  "kernelspec": {
   "display_name": "Python 3 (ipykernel)",
   "language": "python",
   "name": "python3"
  },
  "language_info": {
   "codemirror_mode": {
    "name": "ipython",
    "version": 3
   },
   "file_extension": ".py",
   "mimetype": "text/x-python",
   "name": "python",
   "nbconvert_exporter": "python",
   "pygments_lexer": "ipython3",
   "version": "3.9.12"
  }
 },
 "nbformat": 4,
 "nbformat_minor": 5
}
