{
 "cells": [
  {
   "cell_type": "code",
   "execution_count": 1,
   "id": "5e6d10c7-abe1-4cea-9c4f-5441ed209354",
   "metadata": {},
   "outputs": [],
   "source": [
    "def myfunc(a, b):\n",
    "    #returns 5% of the sum of a and b\n",
    "    return sum((a, b)) * .05"
   ]
  },
  {
   "cell_type": "code",
   "execution_count": 2,
   "id": "76551979-f54d-40c1-87ec-e7465b9bcd79",
   "metadata": {},
   "outputs": [
    {
     "data": {
      "text/plain": [
       "5.0"
      ]
     },
     "execution_count": 2,
     "metadata": {},
     "output_type": "execute_result"
    }
   ],
   "source": [
    "myfunc(40, 60)"
   ]
  },
  {
   "cell_type": "code",
   "execution_count": null,
   "id": "77305d22-e2b9-429f-817d-e66afd8a8447",
   "metadata": {},
   "outputs": [],
   "source": [
    "#if put in more input that defined arguments, will throw error\n",
    "#can use args to allow any number of inputs"
   ]
  },
  {
   "cell_type": "code",
   "execution_count": 6,
   "id": "84116510-8ed8-4032-98e3-c9365fdf8194",
   "metadata": {},
   "outputs": [],
   "source": [
    "def myfunc(*args): #can technically be anything but args is convention\n",
    "    print(args)"
   ]
  },
  {
   "cell_type": "code",
   "execution_count": 5,
   "id": "ae95decb-f700-4d9f-8452-f2a2e44d8894",
   "metadata": {},
   "outputs": [
    {
     "name": "stdout",
     "output_type": "stream",
     "text": [
      "(40, 60, 100, 1)\n"
     ]
    }
   ],
   "source": [
    "myfunc(40, 60, 100, 1)"
   ]
  },
  {
   "cell_type": "code",
   "execution_count": 11,
   "id": "7609ef2f-b859-45ea-81a5-370235571e00",
   "metadata": {},
   "outputs": [],
   "source": [
    "#**kwargs is keyword argument, could be anything but convention is kwargs\n",
    "\n",
    "def myfunc(**kwargs):\n",
    "    print(kwargs)\n",
    "    if 'fruit' in kwargs:\n",
    "        print('My fruit of choice is {}'.format(kwargs['fruit']))\n",
    "    else:\n",
    "        print('I did not find any fruit here')"
   ]
  },
  {
   "cell_type": "code",
   "execution_count": 9,
   "id": "bb80b24b-bce7-40fd-9201-323efd520fa8",
   "metadata": {},
   "outputs": [
    {
     "name": "stdout",
     "output_type": "stream",
     "text": [
      "{'fruit': 'apple'}\n",
      "My fruit of choice is apple\n"
     ]
    }
   ],
   "source": [
    "myfunc(fruit = 'apple')"
   ]
  },
  {
   "cell_type": "code",
   "execution_count": 10,
   "id": "c8e11f6d-68a7-4632-87e4-da5b4586cbdd",
   "metadata": {},
   "outputs": [
    {
     "name": "stdout",
     "output_type": "stream",
     "text": [
      "{'fruit': 'apple', 'veggie': 'lettuce'}\n",
      "My fruit of choice is apple\n"
     ]
    }
   ],
   "source": [
    "myfunc(fruit = 'apple', veggie = 'lettuce')"
   ]
  },
  {
   "cell_type": "code",
   "execution_count": 17,
   "id": "e385b4c7-d704-444f-bd5e-2dbe0403a180",
   "metadata": {},
   "outputs": [],
   "source": [
    "def myfunc(*args, **kwargs): \n",
    "    print(args)\n",
    "    print(kwargs)\n",
    "    print('I would like {} {}'.format(args[0], kwargs['food']))"
   ]
  },
  {
   "cell_type": "code",
   "execution_count": 16,
   "id": "f2944938-b0c1-462a-b743-cd2f962db7f4",
   "metadata": {},
   "outputs": [
    {
     "name": "stdout",
     "output_type": "stream",
     "text": [
      "(10, 20, 30)\n",
      "{'fruit': 'orange', 'food': 'eggs', 'animal': 'dog'}\n",
      "I would like 10 eggs\n"
     ]
    }
   ],
   "source": [
    "myfunc(10, 20, 30, fruit = 'orange', food = 'eggs', animal = 'dog')"
   ]
  },
  {
   "cell_type": "code",
   "execution_count": 18,
   "id": "0553a3dc-2fe1-4aa7-ab16-64db06cf923d",
   "metadata": {},
   "outputs": [
    {
     "ename": "SyntaxError",
     "evalue": "positional argument follows keyword argument (488938929.py, line 3)",
     "output_type": "error",
     "traceback": [
      "\u001b[1;36m  Input \u001b[1;32mIn [18]\u001b[1;36m\u001b[0m\n\u001b[1;33m    myfunc(10, 5, 3, food = 'steak', 9)\u001b[0m\n\u001b[1;37m                                      ^\u001b[0m\n\u001b[1;31mSyntaxError\u001b[0m\u001b[1;31m:\u001b[0m positional argument follows keyword argument\n"
     ]
    }
   ],
   "source": [
    "#however bc args was defined before kwargs, the input must stay that way\n",
    "\n",
    "myfunc(10, 5, 3, food = 'steak', 9)"
   ]
  },
  {
   "cell_type": "code",
   "execution_count": null,
   "id": "ab614c4c-d7bd-4d25-9b93-8d710b8502d7",
   "metadata": {},
   "outputs": [],
   "source": []
  }
 ],
 "metadata": {
  "kernelspec": {
   "display_name": "Python 3 (ipykernel)",
   "language": "python",
   "name": "python3"
  },
  "language_info": {
   "codemirror_mode": {
    "name": "ipython",
    "version": 3
   },
   "file_extension": ".py",
   "mimetype": "text/x-python",
   "name": "python",
   "nbconvert_exporter": "python",
   "pygments_lexer": "ipython3",
   "version": "3.9.12"
  }
 },
 "nbformat": 4,
 "nbformat_minor": 5
}
