{
 "cells": [
  {
   "cell_type": "code",
   "execution_count": 1,
   "id": "e8d89e92-b594-4e3f-a4c3-c6c087195364",
   "metadata": {},
   "outputs": [],
   "source": [
    "name = 'this is a global string'\n",
    "\n",
    "def greet():\n",
    "    \n",
    "    #enclosing\n",
    "    name = 'Sam'\n",
    "    \n",
    "    def hello():\n",
    "        #local\n",
    "        name = 'Im a local'\n",
    "        print('Hello '+name)\n",
    "        \n",
    "    hello()\n"
   ]
  },
  {
   "cell_type": "code",
   "execution_count": 2,
   "id": "6bb5bbb8-c28b-4cf8-975b-81c80d876331",
   "metadata": {},
   "outputs": [
    {
     "name": "stdout",
     "output_type": "stream",
     "text": [
      "Hello Im a local\n"
     ]
    }
   ],
   "source": [
    "greet()"
   ]
  },
  {
   "cell_type": "code",
   "execution_count": 3,
   "id": "c6e53d93-6504-4c94-8e09-78ca7b44e7eb",
   "metadata": {},
   "outputs": [],
   "source": [
    "x = 50\n",
    "\n",
    "def func(x):\n",
    "    print(f'X is {x}')\n",
    "    \n",
    "    #local reassignment\n",
    "    x = 200\n",
    "    print(f'I just locally changed X to {x}')"
   ]
  },
  {
   "cell_type": "code",
   "execution_count": 4,
   "id": "b9ba91e9-bbb2-4447-ac2a-cbf94ff42f0b",
   "metadata": {},
   "outputs": [
    {
     "name": "stdout",
     "output_type": "stream",
     "text": [
      "X is 50\n",
      "I just locally changed X to 200\n"
     ]
    }
   ],
   "source": [
    "func(x)"
   ]
  },
  {
   "cell_type": "code",
   "execution_count": null,
   "id": "504aabf6-777e-4e09-b9f7-07b556b6e0f5",
   "metadata": {},
   "outputs": [],
   "source": []
  },
  {
   "cell_type": "code",
   "execution_count": 9,
   "id": "ff3234cb-f0e3-4996-9fa0-15a592e56594",
   "metadata": {},
   "outputs": [],
   "source": [
    "x = 50\n",
    "\n",
    "def func():\n",
    "    #to actually change global x\n",
    "    global x\n",
    "    print(f'X is {x}')\n",
    "    \n",
    "    #local reassignment on global variable\n",
    "    x = 'new value'\n",
    "    print(f'I just locally changed global X to {x}')"
   ]
  },
  {
   "cell_type": "code",
   "execution_count": 10,
   "id": "bb6cf221-d8e6-42db-9bd1-02e538f53d22",
   "metadata": {},
   "outputs": [
    {
     "name": "stdout",
     "output_type": "stream",
     "text": [
      "50\n"
     ]
    }
   ],
   "source": [
    "print(x)"
   ]
  },
  {
   "cell_type": "code",
   "execution_count": 13,
   "id": "faa566d9-151f-485f-a3d8-892aa08a162b",
   "metadata": {},
   "outputs": [
    {
     "name": "stdout",
     "output_type": "stream",
     "text": [
      "X is new value\n",
      "I just locally changed global X to new value\n"
     ]
    }
   ],
   "source": [
    "func()"
   ]
  },
  {
   "cell_type": "code",
   "execution_count": 14,
   "id": "3122eed0-cffe-41e1-b2c9-db20bba52d79",
   "metadata": {},
   "outputs": [],
   "source": [
    "x = 50\n",
    "\n",
    "def func(x):\n",
    "    print(f'X is {x}')\n",
    "    \n",
    "    #local reassignment on global variable\n",
    "    x = 'new value'\n",
    "    print(f'I just locally changed global X to {x}')\n",
    "    return x"
   ]
  },
  {
   "cell_type": "code",
   "execution_count": 16,
   "id": "52f8233c-f222-4016-a285-182941f355a1",
   "metadata": {},
   "outputs": [
    {
     "name": "stdout",
     "output_type": "stream",
     "text": [
      "X is new value\n",
      "I just locally changed global X to new value\n"
     ]
    }
   ],
   "source": [
    "x = func(x) #preferrable so you don't mess with global"
   ]
  },
  {
   "cell_type": "code",
   "execution_count": null,
   "id": "90d7e500-742f-47ba-8c2f-0c55b5ce1d89",
   "metadata": {},
   "outputs": [],
   "source": []
  }
 ],
 "metadata": {
  "kernelspec": {
   "display_name": "Python 3 (ipykernel)",
   "language": "python",
   "name": "python3"
  },
  "language_info": {
   "codemirror_mode": {
    "name": "ipython",
    "version": 3
   },
   "file_extension": ".py",
   "mimetype": "text/x-python",
   "name": "python",
   "nbconvert_exporter": "python",
   "pygments_lexer": "ipython3",
   "version": "3.9.12"
  }
 },
 "nbformat": 4,
 "nbformat_minor": 5
}
