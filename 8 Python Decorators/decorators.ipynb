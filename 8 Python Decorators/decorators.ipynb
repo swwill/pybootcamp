{
 "cells": [
  {
   "cell_type": "code",
   "execution_count": 1,
   "id": "6a8b4a7f-6c64-4c33-bd76-d4ede6cb2a01",
   "metadata": {},
   "outputs": [],
   "source": [
    "def hello(name = \"Sam\"):\n",
    "    print(\"The hello() function has been executed\")\n",
    "\n",
    "    def greet():\n",
    "        return \"\\t This is the greet() func inside hello\"\n",
    "\n",
    "    def welcome():\n",
    "        return \"\\t This is welcome() inside hello\"\n",
    "\n",
    "    print(greet())\n",
    "    print(welcome())\n",
    "    print(\"This is the end of the hello function!\")"
   ]
  },
  {
   "cell_type": "code",
   "execution_count": 2,
   "id": "14e4db42-d201-4c13-992f-3a27101d18cb",
   "metadata": {},
   "outputs": [
    {
     "name": "stdout",
     "output_type": "stream",
     "text": [
      "The hello() function has been executed\n",
      "\t This is the greet() func inside hello\n",
      "\t This is welcome() inside hello\n",
      "This is the end of the hello function!\n"
     ]
    }
   ],
   "source": [
    "hello()"
   ]
  },
  {
   "cell_type": "code",
   "execution_count": 4,
   "id": "6ec099c2-1df3-46d9-abe1-b5d3f1bca446",
   "metadata": {},
   "outputs": [],
   "source": [
    "#doesn't work bc was only defined in hello\n",
    "#welcome()"
   ]
  },
  {
   "cell_type": "code",
   "execution_count": 5,
   "id": "77316f39-f367-4df4-adbf-9bb71b168e65",
   "metadata": {},
   "outputs": [],
   "source": [
    "def hello(name = \"Sam\"):\n",
    "    print(\"The hello() function has been executed\")\n",
    "\n",
    "    def greet():\n",
    "        return \"\\t This is the greet() func inside hello\"\n",
    "\n",
    "    def welcome():\n",
    "        return \"\\t This is welcome() inside hello\"\n",
    "\n",
    "    print(\"I am going to return a function\")\n",
    "\n",
    "    if name == \"Sam\":\n",
    "        return greet\n",
    "    else:\n",
    "        return welcome"
   ]
  },
  {
   "cell_type": "code",
   "execution_count": 6,
   "id": "d2ecfe09-a832-4178-8351-188558c1e24c",
   "metadata": {},
   "outputs": [
    {
     "name": "stdout",
     "output_type": "stream",
     "text": [
      "The hello() function has been executed\n",
      "I am going to return a function\n"
     ]
    }
   ],
   "source": [
    "new_func = hello(\"Sam\")"
   ]
  },
  {
   "cell_type": "code",
   "execution_count": 8,
   "id": "ce432d64-33fe-473b-8c4b-31fd36876a47",
   "metadata": {},
   "outputs": [
    {
     "name": "stdout",
     "output_type": "stream",
     "text": [
      "\t This is the greet() func inside hello\n"
     ]
    }
   ],
   "source": [
    "print(new_func())"
   ]
  },
  {
   "cell_type": "code",
   "execution_count": 10,
   "id": "0d5789e6-7110-47eb-ae49-51674dffe04e",
   "metadata": {},
   "outputs": [],
   "source": [
    "def cool():\n",
    "    def super_cool():\n",
    "        return \"I am very cool!\"\n",
    "    return super_cool"
   ]
  },
  {
   "cell_type": "code",
   "execution_count": 11,
   "id": "c8455e0e-0aee-4bc8-8463-494b6d516b23",
   "metadata": {},
   "outputs": [],
   "source": [
    "some_func = cool()"
   ]
  },
  {
   "cell_type": "code",
   "execution_count": 12,
   "id": "a20b2056-f8d8-41d3-88f2-c143f08c4015",
   "metadata": {},
   "outputs": [
    {
     "data": {
      "text/plain": [
       "'I am very cool!'"
      ]
     },
     "execution_count": 12,
     "metadata": {},
     "output_type": "execute_result"
    }
   ],
   "source": [
    "some_func()"
   ]
  },
  {
   "cell_type": "code",
   "execution_count": 13,
   "id": "3a1a17f4-3a73-40c0-abb9-b31df4ad1294",
   "metadata": {},
   "outputs": [],
   "source": [
    "def say_hi():\n",
    "    return \"Hi Sam\""
   ]
  },
  {
   "cell_type": "code",
   "execution_count": 18,
   "id": "9046c9da-d2ae-484c-b562-fceefbb1e4f2",
   "metadata": {},
   "outputs": [],
   "source": [
    "def other(some_def_func):\n",
    "    print(\"Other code runs here\")\n",
    "    print(some_def_func())"
   ]
  },
  {
   "cell_type": "code",
   "execution_count": 15,
   "id": "82d7d6fc-be5e-40ba-a7c1-09e8244d6560",
   "metadata": {},
   "outputs": [
    {
     "data": {
      "text/plain": [
       "'Hi Sam'"
      ]
     },
     "execution_count": 15,
     "metadata": {},
     "output_type": "execute_result"
    }
   ],
   "source": [
    "say_hi()"
   ]
  },
  {
   "cell_type": "code",
   "execution_count": 19,
   "id": "6d6a637e-848e-41ed-94c4-51ca9e08ea97",
   "metadata": {},
   "outputs": [
    {
     "name": "stdout",
     "output_type": "stream",
     "text": [
      "Other code runs here\n",
      "Hi Sam\n"
     ]
    }
   ],
   "source": [
    "other(say_hi)"
   ]
  },
  {
   "cell_type": "code",
   "execution_count": 27,
   "id": "7d993883-62ec-4be3-95e8-ef71cab36198",
   "metadata": {},
   "outputs": [],
   "source": [
    "def new_decorator(orig_func):\n",
    "    def wrap_func():\n",
    "        print(\"Some extra code before the original function\")\n",
    "        orig_func()\n",
    "        print(\"Some extra code after the original function!\")\n",
    "    return wrap_func"
   ]
  },
  {
   "cell_type": "code",
   "execution_count": 28,
   "id": "c3800374-10b3-4ce9-ab75-068c67619cfc",
   "metadata": {},
   "outputs": [],
   "source": [
    "def func_needs_decorator():\n",
    "    print(\"I want to be decorated!\")"
   ]
  },
  {
   "cell_type": "code",
   "execution_count": 29,
   "id": "e5b401a7-f684-4d24-98bc-c866fc18b10c",
   "metadata": {},
   "outputs": [
    {
     "name": "stdout",
     "output_type": "stream",
     "text": [
      "I want to be decorated!\n"
     ]
    }
   ],
   "source": [
    "func_needs_decorator()"
   ]
  },
  {
   "cell_type": "code",
   "execution_count": 30,
   "id": "6163e496-7e3e-499b-bbfb-d800bda2efe3",
   "metadata": {},
   "outputs": [],
   "source": [
    "decorated_func = new_decorator(func_needs_decorator)"
   ]
  },
  {
   "cell_type": "code",
   "execution_count": 31,
   "id": "8ed31b71-345a-413a-b13f-64b8e1ceb3e4",
   "metadata": {},
   "outputs": [
    {
     "name": "stdout",
     "output_type": "stream",
     "text": [
      "Some extra code before the original function\n",
      "I want to be decorated!\n",
      "Some extra code after the original function!\n"
     ]
    }
   ],
   "source": [
    "decorated_func()"
   ]
  },
  {
   "cell_type": "code",
   "execution_count": 34,
   "id": "ebaa176e-d87b-404d-a1f8-0a97f1396648",
   "metadata": {},
   "outputs": [],
   "source": [
    "# @ sign is on/off switch to wrap\n",
    "@new_decorator\n",
    "def func_needs_decorator():\n",
    "    print(\"I want to be decorated!\")"
   ]
  },
  {
   "cell_type": "code",
   "execution_count": 33,
   "id": "f94d2ac8-fd15-4836-b4a8-0cee73f6e22c",
   "metadata": {},
   "outputs": [
    {
     "name": "stdout",
     "output_type": "stream",
     "text": [
      "Some extra code before the original function\n",
      "I want to be decorated!\n",
      "Some extra code after the original function!\n"
     ]
    }
   ],
   "source": [
    "func_needs_decorator()"
   ]
  },
  {
   "cell_type": "code",
   "execution_count": 35,
   "id": "24be9662-c7f7-4e9f-9eff-ec0be0726683",
   "metadata": {},
   "outputs": [],
   "source": [
    "# @ sign is on/off switch to wrap\n",
    "#@new_decorator\n",
    "def func_needs_decorator():\n",
    "    print(\"I want to be decorated!\")"
   ]
  },
  {
   "cell_type": "code",
   "execution_count": 36,
   "id": "ac7a859e-c8fb-458b-ac9a-3661ac56952a",
   "metadata": {},
   "outputs": [
    {
     "name": "stdout",
     "output_type": "stream",
     "text": [
      "I want to be decorated!\n"
     ]
    }
   ],
   "source": [
    "func_needs_decorator()"
   ]
  },
  {
   "cell_type": "code",
   "execution_count": null,
   "id": "b59991c8-712b-4f09-9b99-1a214bb3120c",
   "metadata": {},
   "outputs": [],
   "source": []
  }
 ],
 "metadata": {
  "kernelspec": {
   "display_name": "Python [conda env:base] *",
   "language": "python",
   "name": "conda-base-py"
  },
  "language_info": {
   "codemirror_mode": {
    "name": "ipython",
    "version": 3
   },
   "file_extension": ".py",
   "mimetype": "text/x-python",
   "name": "python",
   "nbconvert_exporter": "python",
   "pygments_lexer": "ipython3",
   "version": "3.12.7"
  }
 },
 "nbformat": 4,
 "nbformat_minor": 5
}
