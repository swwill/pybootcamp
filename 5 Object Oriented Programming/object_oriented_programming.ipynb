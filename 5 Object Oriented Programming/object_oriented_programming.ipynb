{
 "cells": [
  {
   "cell_type": "code",
   "execution_count": 22,
   "id": "3d44ef2a-387c-4096-a99f-dd2e9888aad0",
   "metadata": {},
   "outputs": [],
   "source": [
    "class Dog():\n",
    "    species = 'mammal'\n",
    "    def __init__(self, breed, name, spots):\n",
    "        self.breed = breed\n",
    "        self.name = name\n",
    "        \n",
    "        self.spots = spots\n",
    "    def bark(self, number):\n",
    "        print(\"WOOF! My name is {} and the number is {}\".format(self.name, number))"
   ]
  },
  {
   "cell_type": "code",
   "execution_count": 24,
   "id": "f87caa65-1002-4375-a3d0-a771aec0b1fe",
   "metadata": {},
   "outputs": [],
   "source": [
    "my_dog = Dog(breed = 'lab', name = \"Sammy\", spots = False)"
   ]
  },
  {
   "cell_type": "code",
   "execution_count": 11,
   "id": "81e268b6-de6f-42e2-9473-d57c253a19e2",
   "metadata": {},
   "outputs": [
    {
     "data": {
      "text/plain": [
       "__main__.Dog"
      ]
     },
     "execution_count": 11,
     "metadata": {},
     "output_type": "execute_result"
    }
   ],
   "source": [
    "type(my_dog)"
   ]
  },
  {
   "cell_type": "code",
   "execution_count": 12,
   "id": "09c7e68e-f789-4025-88d6-354de4ca459e",
   "metadata": {},
   "outputs": [
    {
     "data": {
      "text/plain": [
       "False"
      ]
     },
     "execution_count": 12,
     "metadata": {},
     "output_type": "execute_result"
    }
   ],
   "source": [
    "my_dog.spots"
   ]
  },
  {
   "cell_type": "code",
   "execution_count": 13,
   "id": "9a6a5728-9c04-4de0-a745-2bb91457e481",
   "metadata": {},
   "outputs": [
    {
     "data": {
      "text/plain": [
       "'mammal'"
      ]
     },
     "execution_count": 13,
     "metadata": {},
     "output_type": "execute_result"
    }
   ],
   "source": [
    "my_dog.species"
   ]
  },
  {
   "cell_type": "code",
   "execution_count": 19,
   "id": "d5afe9d4-bd4b-49c4-ae68-75653571dcc0",
   "metadata": {},
   "outputs": [
    {
     "name": "stdout",
     "output_type": "stream",
     "text": [
      "WOOF! My name is Sammy\n"
     ]
    }
   ],
   "source": [
    "my_dog.bark()"
   ]
  },
  {
   "cell_type": "code",
   "execution_count": 25,
   "id": "bae1b143-6cdc-438a-8d25-567bc5802ff2",
   "metadata": {},
   "outputs": [
    {
     "name": "stdout",
     "output_type": "stream",
     "text": [
      "WOOF! My name is Sammy and the number is 10\n"
     ]
    }
   ],
   "source": [
    "my_dog.bark(10)"
   ]
  },
  {
   "cell_type": "code",
   "execution_count": 28,
   "id": "b5518de2-4fab-4e87-8018-abfa878dca87",
   "metadata": {},
   "outputs": [],
   "source": [
    "class Circle():\n",
    "    pi = 3.14\n",
    "    \n",
    "    def __init__(self, radius = 1):\n",
    "        self.radius = radius\n",
    "        self.area = radius * radius * self.pi\n",
    "        \n",
    "    def get_circumference(self):\n",
    "        return self.radius * self.pi * 2"
   ]
  },
  {
   "cell_type": "code",
   "execution_count": 29,
   "id": "de9a2a9d-9362-4c31-84bc-cc4e4e9c90ac",
   "metadata": {},
   "outputs": [],
   "source": [
    "my_circle = Circle(30)"
   ]
  },
  {
   "cell_type": "code",
   "execution_count": 30,
   "id": "34d9767b-73e1-475c-a4b3-89543d03d9b0",
   "metadata": {},
   "outputs": [
    {
     "data": {
      "text/plain": [
       "3.14"
      ]
     },
     "execution_count": 30,
     "metadata": {},
     "output_type": "execute_result"
    }
   ],
   "source": [
    "my_circle.pi"
   ]
  },
  {
   "cell_type": "code",
   "execution_count": 31,
   "id": "89f40594-7625-42ad-8c80-418d96293423",
   "metadata": {},
   "outputs": [
    {
     "data": {
      "text/plain": [
       "30"
      ]
     },
     "execution_count": 31,
     "metadata": {},
     "output_type": "execute_result"
    }
   ],
   "source": [
    "my_circle.radius"
   ]
  },
  {
   "cell_type": "code",
   "execution_count": 32,
   "id": "0e41f098-c835-4e26-9cf5-269ab95e17df",
   "metadata": {},
   "outputs": [
    {
     "data": {
      "text/plain": [
       "2826.0"
      ]
     },
     "execution_count": 32,
     "metadata": {},
     "output_type": "execute_result"
    }
   ],
   "source": [
    "my_circle.area"
   ]
  },
  {
   "cell_type": "code",
   "execution_count": 34,
   "id": "d2a37910-75aa-4ca4-bf85-15e6777b2788",
   "metadata": {},
   "outputs": [
    {
     "data": {
      "text/plain": [
       "188.4"
      ]
     },
     "execution_count": 34,
     "metadata": {},
     "output_type": "execute_result"
    }
   ],
   "source": [
    "my_circle.get_circumference()"
   ]
  },
  {
   "cell_type": "code",
   "execution_count": 35,
   "id": "c9b5fa05-601c-4aac-af2b-b7062bbcacc6",
   "metadata": {},
   "outputs": [],
   "source": [
    "class Animal():\n",
    "    def __init__(self):\n",
    "        print(\"Animal Created\")\n",
    "    def who_am_i(self):\n",
    "        print(\"I am an animal\")\n",
    "    def eat(self):\n",
    "        print(\"I am eating\")"
   ]
  },
  {
   "cell_type": "code",
   "execution_count": 37,
   "id": "6067757e-dd81-43ad-9251-c76b8d44ee16",
   "metadata": {},
   "outputs": [
    {
     "name": "stdout",
     "output_type": "stream",
     "text": [
      "Animal Created\n"
     ]
    }
   ],
   "source": [
    "myanimal = Animal()"
   ]
  },
  {
   "cell_type": "code",
   "execution_count": 44,
   "id": "ddacb9b5-ec76-46fa-baeb-e123eb85b541",
   "metadata": {},
   "outputs": [],
   "source": [
    "class Bunny(Animal):\n",
    "    def __init__(self):\n",
    "        Animal.__init__(self)\n",
    "        print(\"Bunny Created\")\n",
    "    def who_am_i(self):\n",
    "        print(\"I am a bunny!\")\n",
    "    def easter(self):\n",
    "        print(\"candy\")"
   ]
  },
  {
   "cell_type": "code",
   "execution_count": 46,
   "id": "6000b0e6-8c35-488f-8d28-de7e98bb38f2",
   "metadata": {},
   "outputs": [
    {
     "name": "stdout",
     "output_type": "stream",
     "text": [
      "Animal Created\n",
      "Bunny Created\n"
     ]
    }
   ],
   "source": [
    "mybunny = Bunny()"
   ]
  },
  {
   "cell_type": "code",
   "execution_count": 42,
   "id": "4d78033c-22d1-4214-aba1-25bc0183ac48",
   "metadata": {},
   "outputs": [
    {
     "name": "stdout",
     "output_type": "stream",
     "text": [
      "I am a bunny!\n"
     ]
    }
   ],
   "source": [
    "mybunny.who_am_i()"
   ]
  },
  {
   "cell_type": "code",
   "execution_count": 43,
   "id": "6888066a-0be0-45e9-8b6c-e96d33922baf",
   "metadata": {},
   "outputs": [
    {
     "name": "stdout",
     "output_type": "stream",
     "text": [
      "I am an animal\n"
     ]
    }
   ],
   "source": [
    "myanimal.who_am_i()"
   ]
  },
  {
   "cell_type": "code",
   "execution_count": 47,
   "id": "cfa57fc5-10b6-4dee-a31b-2d1271bf6221",
   "metadata": {},
   "outputs": [
    {
     "name": "stdout",
     "output_type": "stream",
     "text": [
      "candy\n"
     ]
    }
   ],
   "source": [
    "mybunny.easter()"
   ]
  },
  {
   "cell_type": "code",
   "execution_count": 2,
   "id": "af2bde84-55c5-47e6-adea-da9e5f10d373",
   "metadata": {},
   "outputs": [],
   "source": [
    "class Pigeon():\n",
    "    def __init__(self, name):\n",
    "        self.name = name\n",
    "    def speak(self):\n",
    "        return self.name + \" says woo!\""
   ]
  },
  {
   "cell_type": "code",
   "execution_count": 3,
   "id": "2706260b-310d-40aa-8b62-6357781e0ce1",
   "metadata": {},
   "outputs": [],
   "source": [
    "class Cat():\n",
    "    def __init__(self, name):\n",
    "        self.name = name\n",
    "    def speak(self): \n",
    "        return self.name + \" says meow!\""
   ]
  },
  {
   "cell_type": "code",
   "execution_count": 7,
   "id": "3938abdc-f692-47a8-8ecd-f7249735bb14",
   "metadata": {},
   "outputs": [],
   "source": [
    "niko = Pigeon(\"niko\")\n",
    "felix = Cat(\"felix\")"
   ]
  },
  {
   "cell_type": "code",
   "execution_count": 8,
   "id": "3bf892fe-f1b0-45b8-a8bc-b1350b27db57",
   "metadata": {},
   "outputs": [
    {
     "name": "stdout",
     "output_type": "stream",
     "text": [
      "niko says woo!\n"
     ]
    }
   ],
   "source": [
    "print(niko.speak())"
   ]
  },
  {
   "cell_type": "code",
   "execution_count": 9,
   "id": "015174cc-f5bc-4150-ae97-b7a74bf3747f",
   "metadata": {},
   "outputs": [
    {
     "name": "stdout",
     "output_type": "stream",
     "text": [
      "<class '__main__.Pigeon'>\n",
      "niko says woo!\n",
      "<class '__main__.Cat'>\n",
      "felix says meow!\n"
     ]
    }
   ],
   "source": [
    "for pet in [niko, felix]:\n",
    "    print(type(pet))\n",
    "    print(pet.speak())"
   ]
  },
  {
   "cell_type": "code",
   "execution_count": 10,
   "id": "cdcdcafb-b27b-4aad-b67b-217ef5483a24",
   "metadata": {},
   "outputs": [],
   "source": [
    "def pet_speak(pet):\n",
    "    print(pet.speak())"
   ]
  },
  {
   "cell_type": "code",
   "execution_count": 11,
   "id": "dc4d9728-8a35-4882-be81-e124d826fb34",
   "metadata": {},
   "outputs": [
    {
     "name": "stdout",
     "output_type": "stream",
     "text": [
      "niko says woo!\n"
     ]
    }
   ],
   "source": [
    "pet_speak(niko)"
   ]
  },
  {
   "cell_type": "code",
   "execution_count": 12,
   "id": "d8333395-5d81-4cad-976d-ec4e8cc24c4b",
   "metadata": {},
   "outputs": [
    {
     "name": "stdout",
     "output_type": "stream",
     "text": [
      "felix says meow!\n"
     ]
    }
   ],
   "source": [
    "pet_speak(felix)"
   ]
  },
  {
   "cell_type": "code",
   "execution_count": 15,
   "id": "14a70f2f-4e2f-462b-bc0b-70d76ccb5686",
   "metadata": {},
   "outputs": [],
   "source": [
    "class Animal():\n",
    "    def __init__(self, name):\n",
    "        self.name = name\n",
    "    def speak(self):\n",
    "        raise NotImplementedError(\"Subclass must implement this abstract method\")"
   ]
  },
  {
   "cell_type": "code",
   "execution_count": 16,
   "id": "59b5946f-ab46-4587-9fb0-bae2203d8cfc",
   "metadata": {},
   "outputs": [],
   "source": [
    "myanimal = Animal('')"
   ]
  },
  {
   "cell_type": "code",
   "execution_count": 17,
   "id": "91d4c4e5-b303-4227-bcd2-ef496f6cba80",
   "metadata": {},
   "outputs": [
    {
     "ename": "NotImplementedError",
     "evalue": "Subclass must implement this abstract method",
     "output_type": "error",
     "traceback": [
      "\u001b[1;31m---------------------------------------------------------------------------\u001b[0m",
      "\u001b[1;31mNotImplementedError\u001b[0m                       Traceback (most recent call last)",
      "Input \u001b[1;32mIn [17]\u001b[0m, in \u001b[0;36m<cell line: 1>\u001b[1;34m()\u001b[0m\n\u001b[1;32m----> 1\u001b[0m \u001b[43mmyanimal\u001b[49m\u001b[38;5;241;43m.\u001b[39;49m\u001b[43mspeak\u001b[49m\u001b[43m(\u001b[49m\u001b[43m)\u001b[49m\n",
      "Input \u001b[1;32mIn [15]\u001b[0m, in \u001b[0;36mAnimal.speak\u001b[1;34m(self)\u001b[0m\n\u001b[0;32m      4\u001b[0m \u001b[38;5;28;01mdef\u001b[39;00m \u001b[38;5;21mspeak\u001b[39m(\u001b[38;5;28mself\u001b[39m):\n\u001b[1;32m----> 5\u001b[0m     \u001b[38;5;28;01mraise\u001b[39;00m \u001b[38;5;167;01mNotImplementedError\u001b[39;00m(\u001b[38;5;124m\"\u001b[39m\u001b[38;5;124mSubclass must implement this abstract method\u001b[39m\u001b[38;5;124m\"\u001b[39m)\n",
      "\u001b[1;31mNotImplementedError\u001b[0m: Subclass must implement this abstract method"
     ]
    }
   ],
   "source": [
    "myanimal.speak()"
   ]
  },
  {
   "cell_type": "code",
   "execution_count": 18,
   "id": "d3ed8441-ab9b-43eb-9bc6-d59c29797919",
   "metadata": {},
   "outputs": [],
   "source": [
    "class Dog(Animal):\n",
    "    def speak(self):\n",
    "        return self.name+ \" says woof!\""
   ]
  },
  {
   "cell_type": "code",
   "execution_count": 19,
   "id": "9e5c3e44-05c1-4996-947d-f5964e60ea4c",
   "metadata": {},
   "outputs": [],
   "source": [
    "class Cat(Animal):\n",
    "    def speak(self):\n",
    "        return self.name+ \" says meow!\""
   ]
  },
  {
   "cell_type": "code",
   "execution_count": 21,
   "id": "f400046d-eb9a-463f-bbce-4112c8fb45a4",
   "metadata": {},
   "outputs": [],
   "source": [
    "fido = Dog(\"Fido\")"
   ]
  },
  {
   "cell_type": "code",
   "execution_count": 23,
   "id": "7d8097be-9074-45b3-8616-d6d9c2b78d7f",
   "metadata": {},
   "outputs": [],
   "source": [
    "isis = Cat(\"Isis\")"
   ]
  },
  {
   "cell_type": "code",
   "execution_count": 24,
   "id": "7ca5742c-36dd-4922-b01e-a629d77b947e",
   "metadata": {},
   "outputs": [
    {
     "name": "stdout",
     "output_type": "stream",
     "text": [
      "Fido says woof!\n"
     ]
    }
   ],
   "source": [
    "print(fido.speak())"
   ]
  },
  {
   "cell_type": "code",
   "execution_count": 25,
   "id": "3b333ff6-8601-41de-ad89-69d6cd8cde3d",
   "metadata": {},
   "outputs": [
    {
     "name": "stdout",
     "output_type": "stream",
     "text": [
      "Isis says meow!\n"
     ]
    }
   ],
   "source": [
    "print(isis.speak())"
   ]
  },
  {
   "cell_type": "code",
   "execution_count": 37,
   "id": "c3c516d5-7ce2-4bf3-b9f3-115f5d23cfee",
   "metadata": {},
   "outputs": [],
   "source": [
    "class Book():\n",
    "    def __init__(self, title, author, pages):\n",
    "        self.title = title\n",
    "        self.author = author\n",
    "        self.pages = pages\n",
    "    def __str__(self):\n",
    "        return f\"{self.title} by {self.author}\"\n",
    "    def __len__(self):\n",
    "        return self.pages\n",
    "    def __del__(self):\n",
    "        print(\"A book object has been deleted\")"
   ]
  },
  {
   "cell_type": "code",
   "execution_count": 38,
   "id": "bb3ccf31-6924-4416-ae5f-fa7baf3abb97",
   "metadata": {},
   "outputs": [],
   "source": [
    "b = Book(\"python rocks\", 'jose', 200)"
   ]
  },
  {
   "cell_type": "code",
   "execution_count": 39,
   "id": "20e9607d-2e0f-47eb-854d-c83192505ef3",
   "metadata": {},
   "outputs": [
    {
     "name": "stdout",
     "output_type": "stream",
     "text": [
      "python rocks by jose\n"
     ]
    }
   ],
   "source": [
    "print(b)"
   ]
  },
  {
   "cell_type": "code",
   "execution_count": 40,
   "id": "13e72688-ea86-4020-bf71-ee3e1bd4beb7",
   "metadata": {},
   "outputs": [
    {
     "data": {
      "text/plain": [
       "'python rocks by jose'"
      ]
     },
     "execution_count": 40,
     "metadata": {},
     "output_type": "execute_result"
    }
   ],
   "source": [
    "str(b)"
   ]
  },
  {
   "cell_type": "code",
   "execution_count": 41,
   "id": "36605381-6a42-48f4-ac7b-4411308731cc",
   "metadata": {},
   "outputs": [
    {
     "data": {
      "text/plain": [
       "200"
      ]
     },
     "execution_count": 41,
     "metadata": {},
     "output_type": "execute_result"
    }
   ],
   "source": [
    "len(b)"
   ]
  },
  {
   "cell_type": "code",
   "execution_count": 42,
   "id": "a238e55d-ca29-41fd-b9d3-65b95a20d420",
   "metadata": {},
   "outputs": [
    {
     "name": "stdout",
     "output_type": "stream",
     "text": [
      "A book object has been deleted\n"
     ]
    }
   ],
   "source": [
    "#del will delete that variable from computer\n",
    "del b"
   ]
  },
  {
   "cell_type": "code",
   "execution_count": 43,
   "id": "ada39994-7963-4123-8b0b-9eedb3538208",
   "metadata": {},
   "outputs": [
    {
     "ename": "NameError",
     "evalue": "name 'b' is not defined",
     "output_type": "error",
     "traceback": [
      "\u001b[1;31m---------------------------------------------------------------------------\u001b[0m",
      "\u001b[1;31mNameError\u001b[0m                                 Traceback (most recent call last)",
      "Input \u001b[1;32mIn [43]\u001b[0m, in \u001b[0;36m<cell line: 1>\u001b[1;34m()\u001b[0m\n\u001b[1;32m----> 1\u001b[0m \u001b[43mb\u001b[49m\n",
      "\u001b[1;31mNameError\u001b[0m: name 'b' is not defined"
     ]
    }
   ],
   "source": [
    "b"
   ]
  },
  {
   "cell_type": "code",
   "execution_count": null,
   "id": "b885f74d-7c36-49d1-8f09-0b2a487f237d",
   "metadata": {},
   "outputs": [],
   "source": []
  }
 ],
 "metadata": {
  "kernelspec": {
   "display_name": "Python 3 (ipykernel)",
   "language": "python",
   "name": "python3"
  },
  "language_info": {
   "codemirror_mode": {
    "name": "ipython",
    "version": 3
   },
   "file_extension": ".py",
   "mimetype": "text/x-python",
   "name": "python",
   "nbconvert_exporter": "python",
   "pygments_lexer": "ipython3",
   "version": "3.9.12"
  }
 },
 "nbformat": 4,
 "nbformat_minor": 5
}
