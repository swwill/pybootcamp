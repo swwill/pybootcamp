{
 "cells": [
  {
   "cell_type": "code",
   "execution_count": 22,
   "id": "3d44ef2a-387c-4096-a99f-dd2e9888aad0",
   "metadata": {},
   "outputs": [],
   "source": [
    "class Dog():\n",
    "    species = 'mammal'\n",
    "    def __init__(self, breed, name, spots):\n",
    "        self.breed = breed\n",
    "        self.name = name\n",
    "        \n",
    "        self.spots = spots\n",
    "    def bark(self, number):\n",
    "        print(\"WOOF! My name is {} and the number is {}\".format(self.name, number))"
   ]
  },
  {
   "cell_type": "code",
   "execution_count": 24,
   "id": "f87caa65-1002-4375-a3d0-a771aec0b1fe",
   "metadata": {},
   "outputs": [],
   "source": [
    "my_dog = Dog(breed = 'lab', name = \"Sammy\", spots = False)"
   ]
  },
  {
   "cell_type": "code",
   "execution_count": 11,
   "id": "81e268b6-de6f-42e2-9473-d57c253a19e2",
   "metadata": {},
   "outputs": [
    {
     "data": {
      "text/plain": [
       "__main__.Dog"
      ]
     },
     "execution_count": 11,
     "metadata": {},
     "output_type": "execute_result"
    }
   ],
   "source": [
    "type(my_dog)"
   ]
  },
  {
   "cell_type": "code",
   "execution_count": 12,
   "id": "09c7e68e-f789-4025-88d6-354de4ca459e",
   "metadata": {},
   "outputs": [
    {
     "data": {
      "text/plain": [
       "False"
      ]
     },
     "execution_count": 12,
     "metadata": {},
     "output_type": "execute_result"
    }
   ],
   "source": [
    "my_dog.spots"
   ]
  },
  {
   "cell_type": "code",
   "execution_count": 13,
   "id": "9a6a5728-9c04-4de0-a745-2bb91457e481",
   "metadata": {},
   "outputs": [
    {
     "data": {
      "text/plain": [
       "'mammal'"
      ]
     },
     "execution_count": 13,
     "metadata": {},
     "output_type": "execute_result"
    }
   ],
   "source": [
    "my_dog.species"
   ]
  },
  {
   "cell_type": "code",
   "execution_count": 19,
   "id": "d5afe9d4-bd4b-49c4-ae68-75653571dcc0",
   "metadata": {},
   "outputs": [
    {
     "name": "stdout",
     "output_type": "stream",
     "text": [
      "WOOF! My name is Sammy\n"
     ]
    }
   ],
   "source": [
    "my_dog.bark()"
   ]
  },
  {
   "cell_type": "code",
   "execution_count": 25,
   "id": "bae1b143-6cdc-438a-8d25-567bc5802ff2",
   "metadata": {},
   "outputs": [
    {
     "name": "stdout",
     "output_type": "stream",
     "text": [
      "WOOF! My name is Sammy and the number is 10\n"
     ]
    }
   ],
   "source": [
    "my_dog.bark(10)"
   ]
  },
  {
   "cell_type": "code",
   "execution_count": 28,
   "id": "b5518de2-4fab-4e87-8018-abfa878dca87",
   "metadata": {},
   "outputs": [],
   "source": [
    "class Circle():\n",
    "    pi = 3.14\n",
    "    \n",
    "    def __init__(self, radius = 1):\n",
    "        self.radius = radius\n",
    "        self.area = radius * radius * self.pi\n",
    "        \n",
    "    def get_circumference(self):\n",
    "        return self.radius * self.pi * 2"
   ]
  },
  {
   "cell_type": "code",
   "execution_count": 29,
   "id": "de9a2a9d-9362-4c31-84bc-cc4e4e9c90ac",
   "metadata": {},
   "outputs": [],
   "source": [
    "my_circle = Circle(30)"
   ]
  },
  {
   "cell_type": "code",
   "execution_count": 30,
   "id": "34d9767b-73e1-475c-a4b3-89543d03d9b0",
   "metadata": {},
   "outputs": [
    {
     "data": {
      "text/plain": [
       "3.14"
      ]
     },
     "execution_count": 30,
     "metadata": {},
     "output_type": "execute_result"
    }
   ],
   "source": [
    "my_circle.pi"
   ]
  },
  {
   "cell_type": "code",
   "execution_count": 31,
   "id": "89f40594-7625-42ad-8c80-418d96293423",
   "metadata": {},
   "outputs": [
    {
     "data": {
      "text/plain": [
       "30"
      ]
     },
     "execution_count": 31,
     "metadata": {},
     "output_type": "execute_result"
    }
   ],
   "source": [
    "my_circle.radius"
   ]
  },
  {
   "cell_type": "code",
   "execution_count": 32,
   "id": "0e41f098-c835-4e26-9cf5-269ab95e17df",
   "metadata": {},
   "outputs": [
    {
     "data": {
      "text/plain": [
       "2826.0"
      ]
     },
     "execution_count": 32,
     "metadata": {},
     "output_type": "execute_result"
    }
   ],
   "source": [
    "my_circle.area"
   ]
  },
  {
   "cell_type": "code",
   "execution_count": 34,
   "id": "d2a37910-75aa-4ca4-bf85-15e6777b2788",
   "metadata": {},
   "outputs": [
    {
     "data": {
      "text/plain": [
       "188.4"
      ]
     },
     "execution_count": 34,
     "metadata": {},
     "output_type": "execute_result"
    }
   ],
   "source": [
    "my_circle.get_circumference()"
   ]
  },
  {
   "cell_type": "code",
   "execution_count": 35,
   "id": "c9b5fa05-601c-4aac-af2b-b7062bbcacc6",
   "metadata": {},
   "outputs": [],
   "source": [
    "class Animal():\n",
    "    def __init__(self):\n",
    "        print(\"Animal Created\")\n",
    "    def who_am_i(self):\n",
    "        print(\"I am an animal\")\n",
    "    def eat(self):\n",
    "        print(\"I am eating\")"
   ]
  },
  {
   "cell_type": "code",
   "execution_count": 37,
   "id": "6067757e-dd81-43ad-9251-c76b8d44ee16",
   "metadata": {},
   "outputs": [
    {
     "name": "stdout",
     "output_type": "stream",
     "text": [
      "Animal Created\n"
     ]
    }
   ],
   "source": [
    "myanimal = Animal()"
   ]
  },
  {
   "cell_type": "code",
   "execution_count": 44,
   "id": "ddacb9b5-ec76-46fa-baeb-e123eb85b541",
   "metadata": {},
   "outputs": [],
   "source": [
    "class Bunny(Animal):\n",
    "    def __init__(self):\n",
    "        Animal.__init__(self)\n",
    "        print(\"Bunny Created\")\n",
    "    def who_am_i(self):\n",
    "        print(\"I am a bunny!\")\n",
    "    def easter(self):\n",
    "        print(\"candy\")"
   ]
  },
  {
   "cell_type": "code",
   "execution_count": 46,
   "id": "6000b0e6-8c35-488f-8d28-de7e98bb38f2",
   "metadata": {},
   "outputs": [
    {
     "name": "stdout",
     "output_type": "stream",
     "text": [
      "Animal Created\n",
      "Bunny Created\n"
     ]
    }
   ],
   "source": [
    "mybunny = Bunny()"
   ]
  },
  {
   "cell_type": "code",
   "execution_count": 42,
   "id": "4d78033c-22d1-4214-aba1-25bc0183ac48",
   "metadata": {},
   "outputs": [
    {
     "name": "stdout",
     "output_type": "stream",
     "text": [
      "I am a bunny!\n"
     ]
    }
   ],
   "source": [
    "mybunny.who_am_i()"
   ]
  },
  {
   "cell_type": "code",
   "execution_count": 43,
   "id": "6888066a-0be0-45e9-8b6c-e96d33922baf",
   "metadata": {},
   "outputs": [
    {
     "name": "stdout",
     "output_type": "stream",
     "text": [
      "I am an animal\n"
     ]
    }
   ],
   "source": [
    "myanimal.who_am_i()"
   ]
  },
  {
   "cell_type": "code",
   "execution_count": 47,
   "id": "cfa57fc5-10b6-4dee-a31b-2d1271bf6221",
   "metadata": {},
   "outputs": [
    {
     "name": "stdout",
     "output_type": "stream",
     "text": [
      "candy\n"
     ]
    }
   ],
   "source": [
    "mybunny.easter()"
   ]
  },
  {
   "cell_type": "code",
   "execution_count": 48,
   "id": "af2bde84-55c5-47e6-adea-da9e5f10d373",
   "metadata": {},
   "outputs": [],
   "source": [
    "class Pigeon():\n",
    "    def __init__(self, name):\n",
    "        self.name = name\n",
    "    def speak(self):\n",
    "        return self.name + \" says woo!\""
   ]
  },
  {
   "cell_type": "code",
   "execution_count": 49,
   "id": "2706260b-310d-40aa-8b62-6357781e0ce1",
   "metadata": {},
   "outputs": [],
   "source": [
    "class Cat():\n",
    "    def __init__(self, name):\n",
    "        self.name = name\n",
    "    def speak(self): \n",
    "        return self.name + \" says meow!\""
   ]
  },
  {
   "cell_type": "code",
   "execution_count": 50,
   "id": "3938abdc-f692-47a8-8ecd-f7249735bb14",
   "metadata": {},
   "outputs": [],
   "source": [
    "niko = Pigeon(\"niko\")\n",
    "felx = Cat(\"felix\")"
   ]
  },
  {
   "cell_type": "code",
   "execution_count": 51,
   "id": "3bf892fe-f1b0-45b8-a8bc-b1350b27db57",
   "metadata": {},
   "outputs": [
    {
     "name": "stdout",
     "output_type": "stream",
     "text": [
      "niko says woo!\n"
     ]
    }
   ],
   "source": [
    "print(niko.speak())"
   ]
  },
  {
   "cell_type": "code",
   "execution_count": null,
   "id": "015174cc-f5bc-4150-ae97-b7a74bf3747f",
   "metadata": {},
   "outputs": [],
   "source": []
  }
 ],
 "metadata": {
  "kernelspec": {
   "display_name": "Python 3 (ipykernel)",
   "language": "python",
   "name": "python3"
  },
  "language_info": {
   "codemirror_mode": {
    "name": "ipython",
    "version": 3
   },
   "file_extension": ".py",
   "mimetype": "text/x-python",
   "name": "python",
   "nbconvert_exporter": "python",
   "pygments_lexer": "ipython3",
   "version": "3.9.12"
  }
 },
 "nbformat": 4,
 "nbformat_minor": 5
}
